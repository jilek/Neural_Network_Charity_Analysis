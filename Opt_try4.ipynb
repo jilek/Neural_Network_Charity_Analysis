{
 "cells": [
  {
   "cell_type": "code",
   "execution_count": 91,
   "id": "7c97deed",
   "metadata": {},
   "outputs": [
    {
     "data": {
      "text/html": [
       "<div>\n",
       "<style scoped>\n",
       "    .dataframe tbody tr th:only-of-type {\n",
       "        vertical-align: middle;\n",
       "    }\n",
       "\n",
       "    .dataframe tbody tr th {\n",
       "        vertical-align: top;\n",
       "    }\n",
       "\n",
       "    .dataframe thead th {\n",
       "        text-align: right;\n",
       "    }\n",
       "</style>\n",
       "<table border=\"1\" class=\"dataframe\">\n",
       "  <thead>\n",
       "    <tr style=\"text-align: right;\">\n",
       "      <th></th>\n",
       "      <th>EIN</th>\n",
       "      <th>NAME</th>\n",
       "      <th>APPLICATION_TYPE</th>\n",
       "      <th>AFFILIATION</th>\n",
       "      <th>CLASSIFICATION</th>\n",
       "      <th>USE_CASE</th>\n",
       "      <th>ORGANIZATION</th>\n",
       "      <th>STATUS</th>\n",
       "      <th>INCOME_AMT</th>\n",
       "      <th>SPECIAL_CONSIDERATIONS</th>\n",
       "      <th>ASK_AMT</th>\n",
       "      <th>IS_SUCCESSFUL</th>\n",
       "    </tr>\n",
       "  </thead>\n",
       "  <tbody>\n",
       "    <tr>\n",
       "      <th>0</th>\n",
       "      <td>10520599</td>\n",
       "      <td>BLUE KNIGHTS MOTORCYCLE CLUB</td>\n",
       "      <td>T10</td>\n",
       "      <td>Independent</td>\n",
       "      <td>C1000</td>\n",
       "      <td>ProductDev</td>\n",
       "      <td>Association</td>\n",
       "      <td>1</td>\n",
       "      <td>0</td>\n",
       "      <td>N</td>\n",
       "      <td>5000</td>\n",
       "      <td>1</td>\n",
       "    </tr>\n",
       "    <tr>\n",
       "      <th>1</th>\n",
       "      <td>10531628</td>\n",
       "      <td>AMERICAN CHESAPEAKE CLUB CHARITABLE TR</td>\n",
       "      <td>T3</td>\n",
       "      <td>Independent</td>\n",
       "      <td>C2000</td>\n",
       "      <td>Preservation</td>\n",
       "      <td>Co-operative</td>\n",
       "      <td>1</td>\n",
       "      <td>1-9999</td>\n",
       "      <td>N</td>\n",
       "      <td>108590</td>\n",
       "      <td>1</td>\n",
       "    </tr>\n",
       "    <tr>\n",
       "      <th>2</th>\n",
       "      <td>10547893</td>\n",
       "      <td>ST CLOUD PROFESSIONAL FIREFIGHTERS</td>\n",
       "      <td>T5</td>\n",
       "      <td>CompanySponsored</td>\n",
       "      <td>C3000</td>\n",
       "      <td>ProductDev</td>\n",
       "      <td>Association</td>\n",
       "      <td>1</td>\n",
       "      <td>0</td>\n",
       "      <td>N</td>\n",
       "      <td>5000</td>\n",
       "      <td>0</td>\n",
       "    </tr>\n",
       "    <tr>\n",
       "      <th>3</th>\n",
       "      <td>10553066</td>\n",
       "      <td>SOUTHSIDE ATHLETIC ASSOCIATION</td>\n",
       "      <td>T3</td>\n",
       "      <td>CompanySponsored</td>\n",
       "      <td>C2000</td>\n",
       "      <td>Preservation</td>\n",
       "      <td>Trust</td>\n",
       "      <td>1</td>\n",
       "      <td>10000-24999</td>\n",
       "      <td>N</td>\n",
       "      <td>6692</td>\n",
       "      <td>1</td>\n",
       "    </tr>\n",
       "    <tr>\n",
       "      <th>4</th>\n",
       "      <td>10556103</td>\n",
       "      <td>GENETIC RESEARCH INSTITUTE OF THE DESERT</td>\n",
       "      <td>T3</td>\n",
       "      <td>Independent</td>\n",
       "      <td>C1000</td>\n",
       "      <td>Heathcare</td>\n",
       "      <td>Trust</td>\n",
       "      <td>1</td>\n",
       "      <td>100000-499999</td>\n",
       "      <td>N</td>\n",
       "      <td>142590</td>\n",
       "      <td>1</td>\n",
       "    </tr>\n",
       "  </tbody>\n",
       "</table>\n",
       "</div>"
      ],
      "text/plain": [
       "        EIN                                      NAME APPLICATION_TYPE  \\\n",
       "0  10520599              BLUE KNIGHTS MOTORCYCLE CLUB              T10   \n",
       "1  10531628    AMERICAN CHESAPEAKE CLUB CHARITABLE TR               T3   \n",
       "2  10547893        ST CLOUD PROFESSIONAL FIREFIGHTERS               T5   \n",
       "3  10553066            SOUTHSIDE ATHLETIC ASSOCIATION               T3   \n",
       "4  10556103  GENETIC RESEARCH INSTITUTE OF THE DESERT               T3   \n",
       "\n",
       "        AFFILIATION CLASSIFICATION      USE_CASE  ORGANIZATION  STATUS  \\\n",
       "0       Independent          C1000    ProductDev   Association       1   \n",
       "1       Independent          C2000  Preservation  Co-operative       1   \n",
       "2  CompanySponsored          C3000    ProductDev   Association       1   \n",
       "3  CompanySponsored          C2000  Preservation         Trust       1   \n",
       "4       Independent          C1000     Heathcare         Trust       1   \n",
       "\n",
       "      INCOME_AMT SPECIAL_CONSIDERATIONS  ASK_AMT  IS_SUCCESSFUL  \n",
       "0              0                      N     5000              1  \n",
       "1         1-9999                      N   108590              1  \n",
       "2              0                      N     5000              0  \n",
       "3    10000-24999                      N     6692              1  \n",
       "4  100000-499999                      N   142590              1  "
      ]
     },
     "execution_count": 91,
     "metadata": {},
     "output_type": "execute_result"
    }
   ],
   "source": [
    "# Import our dependencies\n",
    "from sklearn.model_selection import train_test_split\n",
    "from sklearn.preprocessing import StandardScaler,OneHotEncoder\n",
    "import pandas as pd\n",
    "import tensorflow as tf\n",
    "\n",
    "#  Import and read the charity_data.csv.\n",
    "import pandas as pd \n",
    "application_df = pd.read_csv(\"Resources/charity_data.csv\")\n",
    "application_df.head()"
   ]
  },
  {
   "cell_type": "code",
   "execution_count": 92,
   "id": "bb1bc7d5",
   "metadata": {},
   "outputs": [
    {
     "data": {
      "text/html": [
       "<div>\n",
       "<style scoped>\n",
       "    .dataframe tbody tr th:only-of-type {\n",
       "        vertical-align: middle;\n",
       "    }\n",
       "\n",
       "    .dataframe tbody tr th {\n",
       "        vertical-align: top;\n",
       "    }\n",
       "\n",
       "    .dataframe thead th {\n",
       "        text-align: right;\n",
       "    }\n",
       "</style>\n",
       "<table border=\"1\" class=\"dataframe\">\n",
       "  <thead>\n",
       "    <tr style=\"text-align: right;\">\n",
       "      <th></th>\n",
       "      <th>APPLICATION_TYPE</th>\n",
       "      <th>AFFILIATION</th>\n",
       "      <th>CLASSIFICATION</th>\n",
       "      <th>USE_CASE</th>\n",
       "      <th>ORGANIZATION</th>\n",
       "      <th>STATUS</th>\n",
       "      <th>INCOME_AMT</th>\n",
       "      <th>SPECIAL_CONSIDERATIONS</th>\n",
       "      <th>ASK_AMT</th>\n",
       "      <th>IS_SUCCESSFUL</th>\n",
       "    </tr>\n",
       "  </thead>\n",
       "  <tbody>\n",
       "    <tr>\n",
       "      <th>0</th>\n",
       "      <td>T10</td>\n",
       "      <td>Independent</td>\n",
       "      <td>C1000</td>\n",
       "      <td>ProductDev</td>\n",
       "      <td>Association</td>\n",
       "      <td>1</td>\n",
       "      <td>0</td>\n",
       "      <td>N</td>\n",
       "      <td>5000</td>\n",
       "      <td>1</td>\n",
       "    </tr>\n",
       "    <tr>\n",
       "      <th>1</th>\n",
       "      <td>T3</td>\n",
       "      <td>Independent</td>\n",
       "      <td>C2000</td>\n",
       "      <td>Preservation</td>\n",
       "      <td>Co-operative</td>\n",
       "      <td>1</td>\n",
       "      <td>1-9999</td>\n",
       "      <td>N</td>\n",
       "      <td>108590</td>\n",
       "      <td>1</td>\n",
       "    </tr>\n",
       "    <tr>\n",
       "      <th>2</th>\n",
       "      <td>T5</td>\n",
       "      <td>CompanySponsored</td>\n",
       "      <td>C3000</td>\n",
       "      <td>ProductDev</td>\n",
       "      <td>Association</td>\n",
       "      <td>1</td>\n",
       "      <td>0</td>\n",
       "      <td>N</td>\n",
       "      <td>5000</td>\n",
       "      <td>0</td>\n",
       "    </tr>\n",
       "    <tr>\n",
       "      <th>3</th>\n",
       "      <td>T3</td>\n",
       "      <td>CompanySponsored</td>\n",
       "      <td>C2000</td>\n",
       "      <td>Preservation</td>\n",
       "      <td>Trust</td>\n",
       "      <td>1</td>\n",
       "      <td>10000-24999</td>\n",
       "      <td>N</td>\n",
       "      <td>6692</td>\n",
       "      <td>1</td>\n",
       "    </tr>\n",
       "    <tr>\n",
       "      <th>4</th>\n",
       "      <td>T3</td>\n",
       "      <td>Independent</td>\n",
       "      <td>C1000</td>\n",
       "      <td>Heathcare</td>\n",
       "      <td>Trust</td>\n",
       "      <td>1</td>\n",
       "      <td>100000-499999</td>\n",
       "      <td>N</td>\n",
       "      <td>142590</td>\n",
       "      <td>1</td>\n",
       "    </tr>\n",
       "  </tbody>\n",
       "</table>\n",
       "</div>"
      ],
      "text/plain": [
       "  APPLICATION_TYPE       AFFILIATION CLASSIFICATION      USE_CASE  \\\n",
       "0              T10       Independent          C1000    ProductDev   \n",
       "1               T3       Independent          C2000  Preservation   \n",
       "2               T5  CompanySponsored          C3000    ProductDev   \n",
       "3               T3  CompanySponsored          C2000  Preservation   \n",
       "4               T3       Independent          C1000     Heathcare   \n",
       "\n",
       "   ORGANIZATION  STATUS     INCOME_AMT SPECIAL_CONSIDERATIONS  ASK_AMT  \\\n",
       "0   Association       1              0                      N     5000   \n",
       "1  Co-operative       1         1-9999                      N   108590   \n",
       "2   Association       1              0                      N     5000   \n",
       "3         Trust       1    10000-24999                      N     6692   \n",
       "4         Trust       1  100000-499999                      N   142590   \n",
       "\n",
       "   IS_SUCCESSFUL  \n",
       "0              1  \n",
       "1              1  \n",
       "2              0  \n",
       "3              1  \n",
       "4              1  "
      ]
     },
     "execution_count": 92,
     "metadata": {},
     "output_type": "execute_result"
    }
   ],
   "source": [
    "# Drop the non-beneficial ID columns, 'EIN' and 'NAME'.\n",
    "application_df.drop(columns=['EIN', 'NAME'], inplace=True)\n",
    "application_df.head(5)"
   ]
  },
  {
   "cell_type": "code",
   "execution_count": 3,
   "id": "de61e466",
   "metadata": {},
   "outputs": [
    {
     "data": {
      "text/plain": [
       "APPLICATION_TYPE            17\n",
       "AFFILIATION                  6\n",
       "CLASSIFICATION              71\n",
       "USE_CASE                     5\n",
       "ORGANIZATION                 4\n",
       "STATUS                       2\n",
       "INCOME_AMT                   9\n",
       "SPECIAL_CONSIDERATIONS       2\n",
       "ASK_AMT                   8747\n",
       "IS_SUCCESSFUL                2\n",
       "dtype: int64"
      ]
     },
     "execution_count": 3,
     "metadata": {},
     "output_type": "execute_result"
    }
   ],
   "source": [
    "# Determine the number of unique values in each column.\n",
    "application_df.nunique()"
   ]
  },
  {
   "cell_type": "markdown",
   "id": "a34bfae8",
   "metadata": {},
   "source": [
    "# ------------------ Pre-process Input Columns ------------------"
   ]
  },
  {
   "cell_type": "markdown",
   "id": "9f79018a",
   "metadata": {},
   "source": [
    "### APPLICATION_TYPE"
   ]
  },
  {
   "cell_type": "code",
   "execution_count": 93,
   "id": "53c26c58",
   "metadata": {},
   "outputs": [
    {
     "data": {
      "text/plain": [
       "T3       27037\n",
       "Other     2266\n",
       "T4        1542\n",
       "T6        1216\n",
       "T5        1173\n",
       "T19       1065\n",
       "Name: APPLICATION_TYPE, dtype: int64"
      ]
     },
     "execution_count": 93,
     "metadata": {},
     "output_type": "execute_result"
    }
   ],
   "source": [
    "# Determine which values to replace if counts are less than ...?\n",
    "application_counts = application_df['APPLICATION_TYPE'].value_counts()\n",
    "\n",
    "replace_application = list(application_counts[application_counts < 1000].index)\n",
    "\n",
    "# Replace in dataframe\n",
    "for app in replace_application:\n",
    "    application_df.APPLICATION_TYPE = application_df.APPLICATION_TYPE.replace(app,\"Other\")\n",
    "    \n",
    "# Check to make sure binning was successful\n",
    "application_df.APPLICATION_TYPE.value_counts()"
   ]
  },
  {
   "cell_type": "code",
   "execution_count": 5,
   "id": "87f7b25c",
   "metadata": {},
   "outputs": [
    {
     "data": {
      "text/plain": [
       "<AxesSubplot:ylabel='Density'>"
      ]
     },
     "execution_count": 5,
     "metadata": {},
     "output_type": "execute_result"
    },
    {
     "data": {
      "image/png": "[encoded data removed]",
      "text/plain": [
       "<Figure size 432x288 with 1 Axes>"
      ]
     },
     "metadata": {
      "needs_background": "light"
     },
     "output_type": "display_data"
    }
   ],
   "source": [
    "application_counts = application_df['APPLICATION_TYPE'].value_counts()\n",
    "application_counts.plot.density()"
   ]
  },
  {
   "cell_type": "markdown",
   "id": "1313d392",
   "metadata": {},
   "source": [
    "### AFFILIATION"
   ]
  },
  {
   "cell_type": "code",
   "execution_count": 6,
   "id": "540eebec",
   "metadata": {},
   "outputs": [
    {
     "data": {
      "text/plain": [
       "Independent         18480\n",
       "CompanySponsored    15705\n",
       "Family/Parent          64\n",
       "National               33\n",
       "Regional               13\n",
       "Other                   4\n",
       "Name: AFFILIATION, dtype: int64"
      ]
     },
     "execution_count": 6,
     "metadata": {},
     "output_type": "execute_result"
    }
   ],
   "source": [
    "application_df['AFFILIATION'].value_counts()"
   ]
  },
  {
   "cell_type": "code",
   "execution_count": 94,
   "id": "e17422ad",
   "metadata": {},
   "outputs": [
    {
     "data": {
      "text/plain": [
       "Independent         18480\n",
       "CompanySponsored    15705\n",
       "Other                 114\n",
       "Name: AFFILIATION, dtype: int64"
      ]
     },
     "execution_count": 94,
     "metadata": {},
     "output_type": "execute_result"
    }
   ],
   "source": [
    "# Determine which values to replace if counts are less than ..?\n",
    "affiliation_counts = application_df['AFFILIATION'].value_counts()\n",
    "replace_class = list(affiliation_counts[affiliation_counts < 1500].index)\n",
    "\n",
    "# Replace in dataframe\n",
    "for cls in replace_class:\n",
    "    application_df.AFFILIATION = application_df.AFFILIATION.replace(cls,\"Other\")\n",
    "    \n",
    "# Check to make sure binning was successful\n",
    "application_df.AFFILIATION.value_counts()"
   ]
  },
  {
   "cell_type": "code",
   "execution_count": 8,
   "id": "8326c081",
   "metadata": {},
   "outputs": [
    {
     "data": {
      "text/plain": [
       "<AxesSubplot:ylabel='Density'>"
      ]
     },
     "execution_count": 8,
     "metadata": {},
     "output_type": "execute_result"
    },
    {
     "data": {
      "image/png": "[encoded data removed]",
      "text/plain": [
       "<Figure size 432x288 with 1 Axes>"
      ]
     },
     "metadata": {
      "needs_background": "light"
     },
     "output_type": "display_data"
    }
   ],
   "source": [
    "affiliation_counts = application_df['AFFILIATION'].value_counts()\n",
    "affiliation_counts.plot.density()"
   ]
  },
  {
   "cell_type": "markdown",
   "id": "67a87460",
   "metadata": {},
   "source": [
    "### CLASSIFICATION"
   ]
  },
  {
   "cell_type": "code",
   "execution_count": 9,
   "id": "87f22491",
   "metadata": {},
   "outputs": [
    {
     "data": {
      "text/plain": [
       "C1000    17326\n",
       "C2000     6074\n",
       "C1200     4837\n",
       "C3000     1918\n",
       "C2100     1883\n",
       "         ...  \n",
       "C4120        1\n",
       "C8210        1\n",
       "C2561        1\n",
       "C4500        1\n",
       "C2150        1\n",
       "Name: CLASSIFICATION, Length: 71, dtype: int64"
      ]
     },
     "execution_count": 9,
     "metadata": {},
     "output_type": "execute_result"
    }
   ],
   "source": [
    "application_df['CLASSIFICATION'].value_counts()"
   ]
  },
  {
   "cell_type": "code",
   "execution_count": 95,
   "id": "452e53b1",
   "metadata": {},
   "outputs": [
    {
     "data": {
      "text/plain": [
       "C1000    17326\n",
       "C2000     6074\n",
       "Other     6062\n",
       "C1200     4837\n",
       "Name: CLASSIFICATION, dtype: int64"
      ]
     },
     "execution_count": 95,
     "metadata": {},
     "output_type": "execute_result"
    }
   ],
   "source": [
    "classification_counts = application_df['CLASSIFICATION'].value_counts()\n",
    "replace_class = list(classification_counts[classification_counts < 2000].index)\n",
    "\n",
    "# Replace in dataframe\n",
    "for cls in replace_class:\n",
    "    application_df.CLASSIFICATION = application_df.CLASSIFICATION.replace(cls,\"Other\")\n",
    "    \n",
    "# Check to make sure binning was successful\n",
    "application_df.CLASSIFICATION.value_counts()"
   ]
  },
  {
   "cell_type": "code",
   "execution_count": 11,
   "id": "d9bece32",
   "metadata": {},
   "outputs": [
    {
     "data": {
      "text/plain": [
       "<AxesSubplot:ylabel='Density'>"
      ]
     },
     "execution_count": 11,
     "metadata": {},
     "output_type": "execute_result"
    },
    {
     "data": {
      "image/png": "[encoded data removed]",
      "text/plain": [
       "<Figure size 432x288 with 1 Axes>"
      ]
     },
     "metadata": {
      "needs_background": "light"
     },
     "output_type": "display_data"
    }
   ],
   "source": [
    "classification_counts = application_df['CLASSIFICATION'].value_counts()\n",
    "classification_counts.plot.density()"
   ]
  },
  {
   "cell_type": "markdown",
   "id": "4fdab3e3",
   "metadata": {},
   "source": [
    "### USE_CASE"
   ]
  },
  {
   "cell_type": "code",
   "execution_count": 12,
   "id": "9a7b02cf",
   "metadata": {},
   "outputs": [
    {
     "data": {
      "text/plain": [
       "Preservation     28095\n",
       "ProductDev        5671\n",
       "CommunityServ      384\n",
       "Heathcare          146\n",
       "Other                3\n",
       "Name: USE_CASE, dtype: int64"
      ]
     },
     "execution_count": 12,
     "metadata": {},
     "output_type": "execute_result"
    }
   ],
   "source": [
    "application_df['USE_CASE'].value_counts()"
   ]
  },
  {
   "cell_type": "code",
   "execution_count": 96,
   "id": "2ce02b61",
   "metadata": {},
   "outputs": [
    {
     "data": {
      "text/plain": [
       "Preservation    28095\n",
       "ProductDev       5671\n",
       "Other             533\n",
       "Name: USE_CASE, dtype: int64"
      ]
     },
     "execution_count": 96,
     "metadata": {},
     "output_type": "execute_result"
    }
   ],
   "source": [
    "# Determine which values to replace if counts are less than ..?\n",
    "use_case_counts = application_df['USE_CASE'].value_counts()\n",
    "replace_class = list(use_case_counts[use_case_counts < 1000].index)\n",
    "\n",
    "# Replace in dataframe\n",
    "for cls in replace_class:\n",
    "    application_df.USE_CASE = application_df.USE_CASE.replace(cls,\"Other\")\n",
    "    \n",
    "# Check to make sure binning was successful\n",
    "application_df.USE_CASE.value_counts()"
   ]
  },
  {
   "cell_type": "code",
   "execution_count": 14,
   "id": "b74bddf2",
   "metadata": {},
   "outputs": [
    {
     "data": {
      "text/plain": [
       "<AxesSubplot:ylabel='Density'>"
      ]
     },
     "execution_count": 14,
     "metadata": {},
     "output_type": "execute_result"
    },
    {
     "data": {
      "image/png": "[encoded data removed]",
      "text/plain": [
       "<Figure size 432x288 with 1 Axes>"
      ]
     },
     "metadata": {
      "needs_background": "light"
     },
     "output_type": "display_data"
    }
   ],
   "source": [
    "use_case_counts = application_df['USE_CASE'].value_counts()\n",
    "use_case_counts.plot.density()"
   ]
  },
  {
   "cell_type": "markdown",
   "id": "08733cdd",
   "metadata": {},
   "source": [
    "### ORGANIZATION"
   ]
  },
  {
   "cell_type": "code",
   "execution_count": 15,
   "id": "f77bdcb0",
   "metadata": {},
   "outputs": [
    {
     "data": {
      "text/plain": [
       "Trust           23515\n",
       "Association     10255\n",
       "Co-operative      486\n",
       "Corporation        43\n",
       "Name: ORGANIZATION, dtype: int64"
      ]
     },
     "execution_count": 15,
     "metadata": {},
     "output_type": "execute_result"
    }
   ],
   "source": [
    "application_df['ORGANIZATION'].value_counts()"
   ]
  },
  {
   "cell_type": "code",
   "execution_count": 97,
   "id": "d077b256",
   "metadata": {},
   "outputs": [
    {
     "data": {
      "text/plain": [
       "Trust          23515\n",
       "Association    10255\n",
       "Other            529\n",
       "Name: ORGANIZATION, dtype: int64"
      ]
     },
     "execution_count": 97,
     "metadata": {},
     "output_type": "execute_result"
    }
   ],
   "source": [
    "# Determine which values to replace if counts are less than ..?\n",
    "organization_counts = application_df['ORGANIZATION'].value_counts()\n",
    "replace_class = list(organization_counts[organization_counts < 3000].index)\n",
    "\n",
    "# Replace in dataframe\n",
    "for cls in replace_class:\n",
    "    application_df.ORGANIZATION = application_df.ORGANIZATION.replace(cls,\"Other\")\n",
    "    \n",
    "# Check to make sure binning was successful\n",
    "application_df.ORGANIZATION.value_counts()"
   ]
  },
  {
   "cell_type": "code",
   "execution_count": 17,
   "id": "a27552d0",
   "metadata": {},
   "outputs": [
    {
     "data": {
      "text/plain": [
       "<AxesSubplot:ylabel='Density'>"
      ]
     },
     "execution_count": 17,
     "metadata": {},
     "output_type": "execute_result"
    },
    {
     "data": {
      "image/png": "[encoded data removed]",
      "text/plain": [
       "<Figure size 432x288 with 1 Axes>"
      ]
     },
     "metadata": {
      "needs_background": "light"
     },
     "output_type": "display_data"
    }
   ],
   "source": [
    "organization_counts = application_df['ORGANIZATION'].value_counts()\n",
    "organization_counts.plot.density()"
   ]
  },
  {
   "cell_type": "markdown",
   "id": "becd6e71",
   "metadata": {},
   "source": [
    "### INCOME_AMT"
   ]
  },
  {
   "cell_type": "code",
   "execution_count": 18,
   "id": "4c19a881",
   "metadata": {},
   "outputs": [
    {
     "data": {
      "text/plain": [
       "0                24388\n",
       "25000-99999       3747\n",
       "100000-499999     3374\n",
       "1M-5M              955\n",
       "1-9999             728\n",
       "10000-24999        543\n",
       "10M-50M            240\n",
       "5M-10M             185\n",
       "50M+               139\n",
       "Name: INCOME_AMT, dtype: int64"
      ]
     },
     "execution_count": 18,
     "metadata": {},
     "output_type": "execute_result"
    }
   ],
   "source": [
    "application_df['INCOME_AMT'].value_counts()"
   ]
  },
  {
   "cell_type": "code",
   "execution_count": 98,
   "id": "bbbdc574",
   "metadata": {},
   "outputs": [
    {
     "data": {
      "text/plain": [
       "0                24388\n",
       "25000-99999       3747\n",
       "100000-499999     3374\n",
       "Other             2790\n",
       "Name: INCOME_AMT, dtype: int64"
      ]
     },
     "execution_count": 98,
     "metadata": {},
     "output_type": "execute_result"
    }
   ],
   "source": [
    "# Determine which values to replace if counts are less than ..?\n",
    "income_amt_counts = application_df['INCOME_AMT'].value_counts()\n",
    "replace_class = list(income_amt_counts[income_amt_counts < 3000].index)\n",
    "\n",
    "# Replace in dataframe\n",
    "for cls in replace_class:\n",
    "    application_df.INCOME_AMT = application_df.INCOME_AMT.replace(cls,\"Other\")\n",
    "    \n",
    "# Check to make sure binning was successful\n",
    "application_df.INCOME_AMT.value_counts()"
   ]
  },
  {
   "cell_type": "code",
   "execution_count": 20,
   "id": "2429e110",
   "metadata": {},
   "outputs": [
    {
     "data": {
      "text/plain": [
       "<AxesSubplot:ylabel='Density'>"
      ]
     },
     "execution_count": 20,
     "metadata": {},
     "output_type": "execute_result"
    },
    {
     "data": {
      "image/png": "[encoded data removed]",
      "text/plain": [
       "<Figure size 432x288 with 1 Axes>"
      ]
     },
     "metadata": {
      "needs_background": "light"
     },
     "output_type": "display_data"
    }
   ],
   "source": [
    "income_amt_counts = application_df['INCOME_AMT'].value_counts()\n",
    "income_amt_counts.plot.density()"
   ]
  },
  {
   "cell_type": "code",
   "execution_count": 21,
   "id": "8be4b8f8",
   "metadata": {},
   "outputs": [],
   "source": [
    "#application_df = application_df.loc[ (application_df['ASK_AMT'] <= 5_500) , :]"
   ]
  },
  {
   "cell_type": "code",
   "execution_count": 99,
   "id": "0ff42ed1",
   "metadata": {},
   "outputs": [],
   "source": [
    "application_df.drop(columns=['SPECIAL_CONSIDERATIONS','STATUS','ASK_AMT'], axis=1, inplace=True)"
   ]
  },
  {
   "cell_type": "code",
   "execution_count": 23,
   "id": "60a3ed68",
   "metadata": {},
   "outputs": [
    {
     "data": {
      "text/html": [
       "<div>\n",
       "<style scoped>\n",
       "    .dataframe tbody tr th:only-of-type {\n",
       "        vertical-align: middle;\n",
       "    }\n",
       "\n",
       "    .dataframe tbody tr th {\n",
       "        vertical-align: top;\n",
       "    }\n",
       "\n",
       "    .dataframe thead th {\n",
       "        text-align: right;\n",
       "    }\n",
       "</style>\n",
       "<table border=\"1\" class=\"dataframe\">\n",
       "  <thead>\n",
       "    <tr style=\"text-align: right;\">\n",
       "      <th></th>\n",
       "      <th>APPLICATION_TYPE</th>\n",
       "      <th>AFFILIATION</th>\n",
       "      <th>CLASSIFICATION</th>\n",
       "      <th>USE_CASE</th>\n",
       "      <th>ORGANIZATION</th>\n",
       "      <th>INCOME_AMT</th>\n",
       "      <th>ASK_AMT</th>\n",
       "      <th>IS_SUCCESSFUL</th>\n",
       "    </tr>\n",
       "  </thead>\n",
       "  <tbody>\n",
       "    <tr>\n",
       "      <th>0</th>\n",
       "      <td>Other</td>\n",
       "      <td>Independent</td>\n",
       "      <td>C1000</td>\n",
       "      <td>ProductDev</td>\n",
       "      <td>Association</td>\n",
       "      <td>0</td>\n",
       "      <td>5000</td>\n",
       "      <td>1</td>\n",
       "    </tr>\n",
       "    <tr>\n",
       "      <th>1</th>\n",
       "      <td>T3</td>\n",
       "      <td>Independent</td>\n",
       "      <td>C2000</td>\n",
       "      <td>Preservation</td>\n",
       "      <td>Other</td>\n",
       "      <td>Other</td>\n",
       "      <td>108590</td>\n",
       "      <td>1</td>\n",
       "    </tr>\n",
       "    <tr>\n",
       "      <th>2</th>\n",
       "      <td>T5</td>\n",
       "      <td>CompanySponsored</td>\n",
       "      <td>Other</td>\n",
       "      <td>ProductDev</td>\n",
       "      <td>Association</td>\n",
       "      <td>0</td>\n",
       "      <td>5000</td>\n",
       "      <td>0</td>\n",
       "    </tr>\n",
       "    <tr>\n",
       "      <th>3</th>\n",
       "      <td>T3</td>\n",
       "      <td>CompanySponsored</td>\n",
       "      <td>C2000</td>\n",
       "      <td>Preservation</td>\n",
       "      <td>Trust</td>\n",
       "      <td>Other</td>\n",
       "      <td>6692</td>\n",
       "      <td>1</td>\n",
       "    </tr>\n",
       "    <tr>\n",
       "      <th>4</th>\n",
       "      <td>T3</td>\n",
       "      <td>Independent</td>\n",
       "      <td>C1000</td>\n",
       "      <td>Other</td>\n",
       "      <td>Trust</td>\n",
       "      <td>100000-499999</td>\n",
       "      <td>142590</td>\n",
       "      <td>1</td>\n",
       "    </tr>\n",
       "  </tbody>\n",
       "</table>\n",
       "</div>"
      ],
      "text/plain": [
       "  APPLICATION_TYPE       AFFILIATION CLASSIFICATION      USE_CASE  \\\n",
       "0            Other       Independent          C1000    ProductDev   \n",
       "1               T3       Independent          C2000  Preservation   \n",
       "2               T5  CompanySponsored          Other    ProductDev   \n",
       "3               T3  CompanySponsored          C2000  Preservation   \n",
       "4               T3       Independent          C1000         Other   \n",
       "\n",
       "  ORGANIZATION     INCOME_AMT  ASK_AMT  IS_SUCCESSFUL  \n",
       "0  Association              0     5000              1  \n",
       "1        Other          Other   108590              1  \n",
       "2  Association              0     5000              0  \n",
       "3        Trust          Other     6692              1  \n",
       "4        Trust  100000-499999   142590              1  "
      ]
     },
     "execution_count": 23,
     "metadata": {},
     "output_type": "execute_result"
    }
   ],
   "source": [
    "application_df.head(5)"
   ]
  },
  {
   "cell_type": "markdown",
   "id": "c6027881",
   "metadata": {},
   "source": [
    "# ------------------ Encode, Scale, Split ------------------"
   ]
  },
  {
   "cell_type": "code",
   "execution_count": 24,
   "id": "cd01786f",
   "metadata": {},
   "outputs": [
    {
     "data": {
      "text/plain": [
       "APPLICATION_TYPE    object\n",
       "AFFILIATION         object\n",
       "CLASSIFICATION      object\n",
       "USE_CASE            object\n",
       "ORGANIZATION        object\n",
       "INCOME_AMT          object\n",
       "ASK_AMT              int64\n",
       "IS_SUCCESSFUL        int64\n",
       "dtype: object"
      ]
     },
     "execution_count": 24,
     "metadata": {},
     "output_type": "execute_result"
    }
   ],
   "source": [
    "application_df.dtypes"
   ]
  },
  {
   "cell_type": "code",
   "execution_count": 100,
   "id": "20c97a67",
   "metadata": {},
   "outputs": [],
   "source": [
    "# Generate our categorical variable lists\n",
    "#application_cat = ['APPLICATION_TYPE', 'AFFILIATION', 'CLASSIFICATION', 'USE_CASE', 'ORGANIZATION','INCOME_AMT','SPECIAL_CONSIDERATIONS']\n",
    "application_cat = ['APPLICATION_TYPE', 'AFFILIATION', 'CLASSIFICATION', 'USE_CASE', 'ORGANIZATION','INCOME_AMT']\n",
    "\n",
    "# Create a OneHotEncoder instance\n",
    "enc = OneHotEncoder(sparse=False)\n",
    "\n",
    "# Fit and transform the OneHotEncoder using the categorical variable list\n",
    "encode_df = pd.DataFrame(enc.fit_transform(application_df[application_cat]))\n",
    "\n",
    "# Add the encoded variable names to the dataframe\n",
    "encode_df.columns = enc.get_feature_names(application_cat)\n",
    "#encode_df.head()"
   ]
  },
  {
   "cell_type": "code",
   "execution_count": 101,
   "id": "e24ce9cb",
   "metadata": {},
   "outputs": [
    {
     "data": {
      "text/html": [
       "<div>\n",
       "<style scoped>\n",
       "    .dataframe tbody tr th:only-of-type {\n",
       "        vertical-align: middle;\n",
       "    }\n",
       "\n",
       "    .dataframe tbody tr th {\n",
       "        vertical-align: top;\n",
       "    }\n",
       "\n",
       "    .dataframe thead th {\n",
       "        text-align: right;\n",
       "    }\n",
       "</style>\n",
       "<table border=\"1\" class=\"dataframe\">\n",
       "  <thead>\n",
       "    <tr style=\"text-align: right;\">\n",
       "      <th></th>\n",
       "      <th>IS_SUCCESSFUL</th>\n",
       "      <th>APPLICATION_TYPE_Other</th>\n",
       "      <th>APPLICATION_TYPE_T19</th>\n",
       "      <th>APPLICATION_TYPE_T3</th>\n",
       "      <th>APPLICATION_TYPE_T4</th>\n",
       "      <th>APPLICATION_TYPE_T5</th>\n",
       "      <th>APPLICATION_TYPE_T6</th>\n",
       "      <th>AFFILIATION_CompanySponsored</th>\n",
       "      <th>AFFILIATION_Independent</th>\n",
       "      <th>AFFILIATION_Other</th>\n",
       "      <th>...</th>\n",
       "      <th>USE_CASE_Other</th>\n",
       "      <th>USE_CASE_Preservation</th>\n",
       "      <th>USE_CASE_ProductDev</th>\n",
       "      <th>ORGANIZATION_Association</th>\n",
       "      <th>ORGANIZATION_Other</th>\n",
       "      <th>ORGANIZATION_Trust</th>\n",
       "      <th>INCOME_AMT_0</th>\n",
       "      <th>INCOME_AMT_100000-499999</th>\n",
       "      <th>INCOME_AMT_25000-99999</th>\n",
       "      <th>INCOME_AMT_Other</th>\n",
       "    </tr>\n",
       "  </thead>\n",
       "  <tbody>\n",
       "    <tr>\n",
       "      <th>0</th>\n",
       "      <td>1</td>\n",
       "      <td>1.0</td>\n",
       "      <td>0.0</td>\n",
       "      <td>0.0</td>\n",
       "      <td>0.0</td>\n",
       "      <td>0.0</td>\n",
       "      <td>0.0</td>\n",
       "      <td>0.0</td>\n",
       "      <td>1.0</td>\n",
       "      <td>0.0</td>\n",
       "      <td>...</td>\n",
       "      <td>0.0</td>\n",
       "      <td>0.0</td>\n",
       "      <td>1.0</td>\n",
       "      <td>1.0</td>\n",
       "      <td>0.0</td>\n",
       "      <td>0.0</td>\n",
       "      <td>1.0</td>\n",
       "      <td>0.0</td>\n",
       "      <td>0.0</td>\n",
       "      <td>0.0</td>\n",
       "    </tr>\n",
       "    <tr>\n",
       "      <th>1</th>\n",
       "      <td>1</td>\n",
       "      <td>0.0</td>\n",
       "      <td>0.0</td>\n",
       "      <td>1.0</td>\n",
       "      <td>0.0</td>\n",
       "      <td>0.0</td>\n",
       "      <td>0.0</td>\n",
       "      <td>0.0</td>\n",
       "      <td>1.0</td>\n",
       "      <td>0.0</td>\n",
       "      <td>...</td>\n",
       "      <td>0.0</td>\n",
       "      <td>1.0</td>\n",
       "      <td>0.0</td>\n",
       "      <td>0.0</td>\n",
       "      <td>1.0</td>\n",
       "      <td>0.0</td>\n",
       "      <td>0.0</td>\n",
       "      <td>0.0</td>\n",
       "      <td>0.0</td>\n",
       "      <td>1.0</td>\n",
       "    </tr>\n",
       "    <tr>\n",
       "      <th>2</th>\n",
       "      <td>0</td>\n",
       "      <td>0.0</td>\n",
       "      <td>0.0</td>\n",
       "      <td>0.0</td>\n",
       "      <td>0.0</td>\n",
       "      <td>1.0</td>\n",
       "      <td>0.0</td>\n",
       "      <td>1.0</td>\n",
       "      <td>0.0</td>\n",
       "      <td>0.0</td>\n",
       "      <td>...</td>\n",
       "      <td>0.0</td>\n",
       "      <td>0.0</td>\n",
       "      <td>1.0</td>\n",
       "      <td>1.0</td>\n",
       "      <td>0.0</td>\n",
       "      <td>0.0</td>\n",
       "      <td>1.0</td>\n",
       "      <td>0.0</td>\n",
       "      <td>0.0</td>\n",
       "      <td>0.0</td>\n",
       "    </tr>\n",
       "    <tr>\n",
       "      <th>3</th>\n",
       "      <td>1</td>\n",
       "      <td>0.0</td>\n",
       "      <td>0.0</td>\n",
       "      <td>1.0</td>\n",
       "      <td>0.0</td>\n",
       "      <td>0.0</td>\n",
       "      <td>0.0</td>\n",
       "      <td>1.0</td>\n",
       "      <td>0.0</td>\n",
       "      <td>0.0</td>\n",
       "      <td>...</td>\n",
       "      <td>0.0</td>\n",
       "      <td>1.0</td>\n",
       "      <td>0.0</td>\n",
       "      <td>0.0</td>\n",
       "      <td>0.0</td>\n",
       "      <td>1.0</td>\n",
       "      <td>0.0</td>\n",
       "      <td>0.0</td>\n",
       "      <td>0.0</td>\n",
       "      <td>1.0</td>\n",
       "    </tr>\n",
       "    <tr>\n",
       "      <th>4</th>\n",
       "      <td>1</td>\n",
       "      <td>0.0</td>\n",
       "      <td>0.0</td>\n",
       "      <td>1.0</td>\n",
       "      <td>0.0</td>\n",
       "      <td>0.0</td>\n",
       "      <td>0.0</td>\n",
       "      <td>0.0</td>\n",
       "      <td>1.0</td>\n",
       "      <td>0.0</td>\n",
       "      <td>...</td>\n",
       "      <td>1.0</td>\n",
       "      <td>0.0</td>\n",
       "      <td>0.0</td>\n",
       "      <td>0.0</td>\n",
       "      <td>0.0</td>\n",
       "      <td>1.0</td>\n",
       "      <td>0.0</td>\n",
       "      <td>1.0</td>\n",
       "      <td>0.0</td>\n",
       "      <td>0.0</td>\n",
       "    </tr>\n",
       "  </tbody>\n",
       "</table>\n",
       "<p>5 rows × 24 columns</p>\n",
       "</div>"
      ],
      "text/plain": [
       "   IS_SUCCESSFUL  APPLICATION_TYPE_Other  APPLICATION_TYPE_T19  \\\n",
       "0              1                     1.0                   0.0   \n",
       "1              1                     0.0                   0.0   \n",
       "2              0                     0.0                   0.0   \n",
       "3              1                     0.0                   0.0   \n",
       "4              1                     0.0                   0.0   \n",
       "\n",
       "   APPLICATION_TYPE_T3  APPLICATION_TYPE_T4  APPLICATION_TYPE_T5  \\\n",
       "0                  0.0                  0.0                  0.0   \n",
       "1                  1.0                  0.0                  0.0   \n",
       "2                  0.0                  0.0                  1.0   \n",
       "3                  1.0                  0.0                  0.0   \n",
       "4                  1.0                  0.0                  0.0   \n",
       "\n",
       "   APPLICATION_TYPE_T6  AFFILIATION_CompanySponsored  AFFILIATION_Independent  \\\n",
       "0                  0.0                           0.0                      1.0   \n",
       "1                  0.0                           0.0                      1.0   \n",
       "2                  0.0                           1.0                      0.0   \n",
       "3                  0.0                           1.0                      0.0   \n",
       "4                  0.0                           0.0                      1.0   \n",
       "\n",
       "   AFFILIATION_Other  ...  USE_CASE_Other  USE_CASE_Preservation  \\\n",
       "0                0.0  ...             0.0                    0.0   \n",
       "1                0.0  ...             0.0                    1.0   \n",
       "2                0.0  ...             0.0                    0.0   \n",
       "3                0.0  ...             0.0                    1.0   \n",
       "4                0.0  ...             1.0                    0.0   \n",
       "\n",
       "   USE_CASE_ProductDev  ORGANIZATION_Association  ORGANIZATION_Other  \\\n",
       "0                  1.0                       1.0                 0.0   \n",
       "1                  0.0                       0.0                 1.0   \n",
       "2                  1.0                       1.0                 0.0   \n",
       "3                  0.0                       0.0                 0.0   \n",
       "4                  0.0                       0.0                 0.0   \n",
       "\n",
       "   ORGANIZATION_Trust  INCOME_AMT_0  INCOME_AMT_100000-499999  \\\n",
       "0                 0.0           1.0                       0.0   \n",
       "1                 0.0           0.0                       0.0   \n",
       "2                 0.0           1.0                       0.0   \n",
       "3                 1.0           0.0                       0.0   \n",
       "4                 1.0           0.0                       1.0   \n",
       "\n",
       "   INCOME_AMT_25000-99999  INCOME_AMT_Other  \n",
       "0                     0.0               0.0  \n",
       "1                     0.0               1.0  \n",
       "2                     0.0               0.0  \n",
       "3                     0.0               1.0  \n",
       "4                     0.0               0.0  \n",
       "\n",
       "[5 rows x 24 columns]"
      ]
     },
     "execution_count": 101,
     "metadata": {},
     "output_type": "execute_result"
    }
   ],
   "source": [
    "# Merge one-hot encoded features and drop the originals\n",
    "merged_df = application_df.merge(encode_df, left_index=True, right_index=True).drop(columns=application_cat, axis=1)\n",
    "merged_df.head()"
   ]
  },
  {
   "cell_type": "code",
   "execution_count": 102,
   "id": "8340d967",
   "metadata": {},
   "outputs": [],
   "source": [
    "# Split our preprocessed data into our features and target arrays\n",
    "y = merged_df[\"IS_SUCCESSFUL\"].values\n",
    "merged_df.drop(columns=[\"IS_SUCCESSFUL\"], axis=1, inplace=True)\n",
    "X = merged_df.values\n",
    "\n",
    "# Split the preprocessed data into a training and testing dataset\n",
    "X_train, X_test, y_train, y_test = train_test_split(X, y, random_state=78)"
   ]
  },
  {
   "cell_type": "code",
   "execution_count": 50,
   "id": "8386a82a",
   "metadata": {},
   "outputs": [],
   "source": [
    "#from sklearn.preprocessing import MinMaxScaler\n",
    "#X_train_scaled = MinMaxScaler().fit_transform(X_train)\n",
    "#X_test_scaled = MinMaxScaler().fit_transform(X_test)"
   ]
  },
  {
   "cell_type": "code",
   "execution_count": 103,
   "id": "2b4a5c2d",
   "metadata": {},
   "outputs": [],
   "source": [
    "# Create a StandardScaler instances\n",
    "scaler = StandardScaler()\n",
    "\n",
    "# Fit the StandardScaler\n",
    "X_scaler = scaler.fit(X_train)\n",
    "\n",
    "# Scale the data\n",
    "X_train_scaled = X_scaler.transform(X_train)\n",
    "X_test_scaled = X_scaler.transform(X_test)"
   ]
  },
  {
   "cell_type": "code",
   "execution_count": 51,
   "id": "1936e8eb",
   "metadata": {},
   "outputs": [
    {
     "data": {
      "text/plain": [
       "(34299, 24)"
      ]
     },
     "execution_count": 51,
     "metadata": {},
     "output_type": "execute_result"
    }
   ],
   "source": [
    "merged_df.shape"
   ]
  },
  {
   "cell_type": "code",
   "execution_count": 52,
   "id": "3563faa9",
   "metadata": {},
   "outputs": [],
   "source": [
    "# Import checkpoint dependencies\n",
    "import os\n",
    "from tensorflow.keras.callbacks import ModelCheckpoint\n",
    "\n",
    "# Define the checkpoint path and filenames\n",
    "os.makedirs(\"checkpoints_opt\",exist_ok=True)\n",
    "checkpoint_path = \"checkpoints_opt/weights_2.{epoch:02d}.hdf5\""
   ]
  },
  {
   "cell_type": "code",
   "execution_count": 108,
   "id": "cd0cb4b7",
   "metadata": {},
   "outputs": [
    {
     "name": "stdout",
     "output_type": "stream",
     "text": [
      "Model: \"sequential_11\"\n",
      "_________________________________________________________________\n",
      "Layer (type)                 Output Shape              Param #   \n",
      "=================================================================\n",
      "dense_130 (Dense)            (None, 96)                2304      \n",
      "_________________________________________________________________\n",
      "dense_131 (Dense)            (None, 96)                9312      \n",
      "_________________________________________________________________\n",
      "dense_132 (Dense)            (None, 96)                9312      \n",
      "_________________________________________________________________\n",
      "dense_133 (Dense)            (None, 96)                9312      \n",
      "_________________________________________________________________\n",
      "dense_134 (Dense)            (None, 96)                9312      \n",
      "_________________________________________________________________\n",
      "dense_135 (Dense)            (None, 96)                9312      \n",
      "_________________________________________________________________\n",
      "dense_136 (Dense)            (None, 96)                9312      \n",
      "_________________________________________________________________\n",
      "dense_137 (Dense)            (None, 96)                9312      \n",
      "_________________________________________________________________\n",
      "dense_138 (Dense)            (None, 1)                 97        \n",
      "=================================================================\n",
      "Total params: 67,585\n",
      "Trainable params: 67,585\n",
      "Non-trainable params: 0\n",
      "_________________________________________________________________\n"
     ]
    }
   ],
   "source": [
    "# Define the model - deep neural net, i.e., the number of input features and hidden nodes for each layer.\n",
    "nn = tf.keras.models.Sequential()\n",
    "\n",
    "# First hidden layer\n",
    "nn.add(tf.keras.layers.Dense(units=96, activation=\"tanh\", input_dim=23))\n",
    "nn.add(tf.keras.layers.Dense(units=96, activation=\"tanh\"))\n",
    "nn.add(tf.keras.layers.Dense(units=96, activation=\"tanh\"))\n",
    "nn.add(tf.keras.layers.Dense(units=96, activation=\"tanh\"))\n",
    "nn.add(tf.keras.layers.Dense(units=96, activation=\"tanh\"))\n",
    "nn.add(tf.keras.layers.Dense(units=96, activation=\"tanh\"))\n",
    "nn.add(tf.keras.layers.Dense(units=96, activation=\"tanh\"))\n",
    "nn.add(tf.keras.layers.Dense(units=96, activation=\"tanh\"))\n",
    "\n",
    "nn.add(tf.keras.layers.Dense(units=1, activation=\"sigmoid\"))\n",
    "\n",
    "# Check the structure of the model\n",
    "nn.summary()"
   ]
  },
  {
   "cell_type": "code",
   "execution_count": 109,
   "id": "863dbb6e",
   "metadata": {},
   "outputs": [],
   "source": [
    "# Compile the model\n",
    "#nn.compile(loss=\"binary_crossentropy\", optimizer=\"adam\", metrics=[\"accuracy\"])\n",
    "nn.compile(loss=\"binary_crossentropy\", optimizer=\"adam\", metrics=[\"accuracy\"])"
   ]
  },
  {
   "cell_type": "code",
   "execution_count": 110,
   "id": "160cdaf4",
   "metadata": {},
   "outputs": [
    {
     "name": "stdout",
     "output_type": "stream",
     "text": [
      "WARNING:tensorflow:`period` argument is deprecated. Please use `save_freq` to specify the frequency in number of batches seen.\n"
     ]
    }
   ],
   "source": [
    "# Create a callback that saves the model's weights every epoch\n",
    "\n",
    "cp_callback_opt = ModelCheckpoint(\n",
    "    filepath=checkpoint_path,\n",
    "    verbose=1,\n",
    "    save_weights_only=True,\n",
    "    period=5)\n",
    "\n",
    "# Normally we use 'save_freq', but it behaves strangely, and I could not get\n",
    "# it to save every 5 epochs. The 'period' param is now deprecated, but it works.\n",
    "    #save_freq='epoch')"
   ]
  },
  {
   "cell_type": "code",
   "execution_count": 111,
   "id": "3c43289b",
   "metadata": {},
   "outputs": [
    {
     "name": "stdout",
     "output_type": "stream",
     "text": [
      "Epoch 1/1000\n",
      "804/804 [==============================] - 2s 2ms/step - loss: 0.5876 - accuracy: 0.7167\n",
      "Epoch 2/1000\n",
      "804/804 [==============================] - 1s 2ms/step - loss: 0.5780 - accuracy: 0.7194\n",
      "Epoch 3/1000\n",
      "804/804 [==============================] - 2s 2ms/step - loss: 0.5716 - accuracy: 0.7236\n",
      "Epoch 4/1000\n",
      "804/804 [==============================] - 1s 2ms/step - loss: 0.5677 - accuracy: 0.7235\n",
      "Epoch 5/1000\n",
      "804/804 [==============================] - 2s 2ms/step - loss: 0.5686 - accuracy: 0.7234\n",
      "\n",
      "Epoch 00005: saving model to checkpoints_opt\\weights_2.05.hdf5\n",
      "Epoch 6/1000\n",
      "804/804 [==============================] - 1s 2ms/step - loss: 0.5656 - accuracy: 0.7242\n",
      "Epoch 7/1000\n",
      "804/804 [==============================] - 1s 2ms/step - loss: 0.5640 - accuracy: 0.7248\n",
      "Epoch 8/1000\n",
      "804/804 [==============================] - 1s 2ms/step - loss: 0.5637 - accuracy: 0.7231\n",
      "Epoch 9/1000\n",
      "804/804 [==============================] - 1s 2ms/step - loss: 0.5657 - accuracy: 0.7240\n",
      "Epoch 10/1000\n",
      "804/804 [==============================] - 1s 2ms/step - loss: 0.5671 - accuracy: 0.7227\n",
      "\n",
      "Epoch 00010: saving model to checkpoints_opt\\weights_2.10.hdf5\n",
      "Epoch 11/1000\n",
      "804/804 [==============================] - 1s 2ms/step - loss: 0.5662 - accuracy: 0.7243\n",
      "Epoch 12/1000\n",
      "804/804 [==============================] - 1s 2ms/step - loss: 0.5638 - accuracy: 0.7248\n",
      "Epoch 13/1000\n",
      "804/804 [==============================] - 2s 2ms/step - loss: 0.5625 - accuracy: 0.7259\n",
      "Epoch 14/1000\n",
      "804/804 [==============================] - 1s 2ms/step - loss: 0.5624 - accuracy: 0.7252\n",
      "Epoch 15/1000\n",
      "804/804 [==============================] - 2s 2ms/step - loss: 0.5613 - accuracy: 0.7262\n",
      "\n",
      "Epoch 00015: saving model to checkpoints_opt\\weights_2.15.hdf5\n",
      "Epoch 16/1000\n",
      "804/804 [==============================] - 2s 2ms/step - loss: 0.5624 - accuracy: 0.7265\n",
      "Epoch 17/1000\n",
      "804/804 [==============================] - 2s 2ms/step - loss: 0.5614 - accuracy: 0.7271\n",
      "Epoch 18/1000\n",
      "804/804 [==============================] - 1s 2ms/step - loss: 0.5642 - accuracy: 0.7250\n",
      "Epoch 19/1000\n",
      "804/804 [==============================] - 1s 2ms/step - loss: 0.5626 - accuracy: 0.7270\n",
      "Epoch 20/1000\n",
      "804/804 [==============================] - 2s 2ms/step - loss: 0.5612 - accuracy: 0.7271: 0s - loss: 0.5612 - ac\n",
      "\n",
      "Epoch 00020: saving model to checkpoints_opt\\weights_2.20.hdf5\n",
      "Epoch 21/1000\n",
      "804/804 [==============================] - 1s 2ms/step - loss: 0.5653 - accuracy: 0.7241\n",
      "Epoch 22/1000\n",
      "804/804 [==============================] - 2s 2ms/step - loss: 0.5639 - accuracy: 0.7218\n",
      "Epoch 23/1000\n",
      "804/804 [==============================] - 1s 2ms/step - loss: 0.5643 - accuracy: 0.7237\n",
      "Epoch 24/1000\n",
      "804/804 [==============================] - 2s 2ms/step - loss: 0.5666 - accuracy: 0.7260\n",
      "Epoch 25/1000\n",
      "804/804 [==============================] - 2s 2ms/step - loss: 0.5636 - accuracy: 0.7263\n",
      "\n",
      "Epoch 00025: saving model to checkpoints_opt\\weights_2.25.hdf5\n",
      "Epoch 26/1000\n",
      "804/804 [==============================] - 1s 2ms/step - loss: 0.5642 - accuracy: 0.7258\n",
      "Epoch 27/1000\n",
      "804/804 [==============================] - 1s 2ms/step - loss: 0.5650 - accuracy: 0.7263\n",
      "Epoch 28/1000\n",
      "804/804 [==============================] - 1s 2ms/step - loss: 0.5641 - accuracy: 0.7268\n",
      "Epoch 29/1000\n",
      "804/804 [==============================] - 1s 2ms/step - loss: 0.5625 - accuracy: 0.7273\n",
      "Epoch 30/1000\n",
      "804/804 [==============================] - 1s 2ms/step - loss: 0.5623 - accuracy: 0.7248\n",
      "\n",
      "Epoch 00030: saving model to checkpoints_opt\\weights_2.30.hdf5\n",
      "Epoch 31/1000\n",
      "804/804 [==============================] - 1s 2ms/step - loss: 0.5614 - accuracy: 0.7278\n",
      "Epoch 32/1000\n",
      "804/804 [==============================] - 1s 2ms/step - loss: 0.5625 - accuracy: 0.7285\n",
      "Epoch 33/1000\n",
      "804/804 [==============================] - 2s 2ms/step - loss: 0.5624 - accuracy: 0.7283\n",
      "Epoch 34/1000\n",
      "804/804 [==============================] - 2s 2ms/step - loss: 0.5623 - accuracy: 0.7270\n",
      "Epoch 35/1000\n",
      "804/804 [==============================] - 2s 3ms/step - loss: 0.5631 - accuracy: 0.7275\n",
      "\n",
      "Epoch 00035: saving model to checkpoints_opt\\weights_2.35.hdf5\n",
      "Epoch 36/1000\n",
      "804/804 [==============================] - 3s 4ms/step - loss: 0.5611 - accuracy: 0.7262\n",
      "Epoch 37/1000\n",
      "804/804 [==============================] - 2s 2ms/step - loss: 0.5593 - accuracy: 0.7274\n",
      "Epoch 38/1000\n",
      "804/804 [==============================] - 2s 2ms/step - loss: 0.5601 - accuracy: 0.7260\n",
      "Epoch 39/1000\n",
      "804/804 [==============================] - 2s 2ms/step - loss: 0.5605 - accuracy: 0.7266\n",
      "Epoch 40/1000\n",
      "804/804 [==============================] - 1s 2ms/step - loss: 0.5609 - accuracy: 0.7256\n",
      "\n",
      "Epoch 00040: saving model to checkpoints_opt\\weights_2.40.hdf5\n",
      "Epoch 41/1000\n",
      "804/804 [==============================] - 1s 2ms/step - loss: 0.5615 - accuracy: 0.7241: 0s - loss: 0.5619 - accuracy: 0.72\n",
      "Epoch 42/1000\n",
      "804/804 [==============================] - 1s 2ms/step - loss: 0.5603 - accuracy: 0.7251\n",
      "Epoch 43/1000\n",
      "804/804 [==============================] - 1s 2ms/step - loss: 0.5619 - accuracy: 0.7249\n",
      "Epoch 44/1000\n",
      "804/804 [==============================] - 1s 2ms/step - loss: 0.5599 - accuracy: 0.7274\n",
      "Epoch 45/1000\n",
      "804/804 [==============================] - 1s 2ms/step - loss: 0.5617 - accuracy: 0.7238\n",
      "\n",
      "Epoch 00045: saving model to checkpoints_opt\\weights_2.45.hdf5\n",
      "Epoch 46/1000\n",
      "804/804 [==============================] - 1s 2ms/step - loss: 0.5623 - accuracy: 0.7265\n",
      "Epoch 47/1000\n",
      "804/804 [==============================] - 2s 2ms/step - loss: 0.5613 - accuracy: 0.7276\n",
      "Epoch 48/1000\n",
      "804/804 [==============================] - 1s 2ms/step - loss: 0.5601 - accuracy: 0.7290\n",
      "Epoch 49/1000\n",
      "804/804 [==============================] - 1s 2ms/step - loss: 0.5586 - accuracy: 0.7305\n",
      "Epoch 50/1000\n",
      "804/804 [==============================] - 1s 2ms/step - loss: 0.5598 - accuracy: 0.7284\n",
      "\n",
      "Epoch 00050: saving model to checkpoints_opt\\weights_2.50.hdf5\n",
      "Epoch 51/1000\n",
      "804/804 [==============================] - 1s 2ms/step - loss: 0.5623 - accuracy: 0.7274\n",
      "Epoch 52/1000\n",
      "804/804 [==============================] - 1s 2ms/step - loss: 0.5604 - accuracy: 0.7264\n",
      "Epoch 53/1000\n",
      "804/804 [==============================] - 2s 2ms/step - loss: 0.5601 - accuracy: 0.7284: 0s - loss: 0.558\n",
      "Epoch 54/1000\n",
      "804/804 [==============================] - 1s 2ms/step - loss: 0.5590 - accuracy: 0.7292\n",
      "Epoch 55/1000\n",
      "804/804 [==============================] - 1s 2ms/step - loss: 0.5598 - accuracy: 0.7255\n",
      "\n",
      "Epoch 00055: saving model to checkpoints_opt\\weights_2.55.hdf5\n",
      "Epoch 56/1000\n",
      "804/804 [==============================] - 1s 2ms/step - loss: 0.5603 - accuracy: 0.7256\n",
      "Epoch 57/1000\n",
      "804/804 [==============================] - 1s 2ms/step - loss: 0.5610 - accuracy: 0.7272\n",
      "Epoch 58/1000\n",
      "804/804 [==============================] - 1s 2ms/step - loss: 0.5584 - accuracy: 0.7296\n",
      "Epoch 59/1000\n",
      "804/804 [==============================] - 1s 2ms/step - loss: 0.5569 - accuracy: 0.7296\n",
      "Epoch 60/1000\n",
      "804/804 [==============================] - 1s 2ms/step - loss: 0.5589 - accuracy: 0.7305\n",
      "\n",
      "Epoch 00060: saving model to checkpoints_opt\\weights_2.60.hdf5\n",
      "Epoch 61/1000\n",
      "804/804 [==============================] - 2s 2ms/step - loss: 0.5595 - accuracy: 0.7302\n",
      "Epoch 62/1000\n",
      "804/804 [==============================] - 1s 2ms/step - loss: 0.5595 - accuracy: 0.7286\n",
      "Epoch 63/1000\n",
      "804/804 [==============================] - 1s 2ms/step - loss: 0.5574 - accuracy: 0.7313\n",
      "Epoch 64/1000\n",
      "804/804 [==============================] - 2s 2ms/step - loss: 0.5576 - accuracy: 0.7290\n",
      "Epoch 65/1000\n",
      "804/804 [==============================] - 1s 2ms/step - loss: 0.5582 - accuracy: 0.7308\n",
      "\n",
      "Epoch 00065: saving model to checkpoints_opt\\weights_2.65.hdf5\n",
      "Epoch 66/1000\n",
      "804/804 [==============================] - 1s 2ms/step - loss: 0.5589 - accuracy: 0.7290\n",
      "Epoch 67/1000\n",
      "804/804 [==============================] - 1s 2ms/step - loss: 0.5587 - accuracy: 0.7290\n",
      "Epoch 68/1000\n",
      "804/804 [==============================] - 1s 2ms/step - loss: 0.5574 - accuracy: 0.7304\n",
      "Epoch 69/1000\n",
      "804/804 [==============================] - 1s 2ms/step - loss: 0.5573 - accuracy: 0.7292\n",
      "Epoch 70/1000\n",
      "804/804 [==============================] - 1s 2ms/step - loss: 0.5582 - accuracy: 0.7316\n",
      "\n",
      "Epoch 00070: saving model to checkpoints_opt\\weights_2.70.hdf5\n",
      "Epoch 71/1000\n"
     ]
    },
    {
     "name": "stdout",
     "output_type": "stream",
     "text": [
      "804/804 [==============================] - ETA: 0s - loss: 0.5591 - accuracy: 0.73 - 1s 2ms/step - loss: 0.5597 - accuracy: 0.7302\n",
      "Epoch 72/1000\n",
      "804/804 [==============================] - 1s 2ms/step - loss: 0.5608 - accuracy: 0.7306\n",
      "Epoch 73/1000\n",
      "804/804 [==============================] - 2s 2ms/step - loss: 0.5588 - accuracy: 0.7300\n",
      "Epoch 74/1000\n",
      "804/804 [==============================] - 2s 2ms/step - loss: 0.5586 - accuracy: 0.7278\n",
      "Epoch 75/1000\n",
      "804/804 [==============================] - 2s 2ms/step - loss: 0.5587 - accuracy: 0.7295\n",
      "\n",
      "Epoch 00075: saving model to checkpoints_opt\\weights_2.75.hdf5\n",
      "Epoch 76/1000\n",
      "804/804 [==============================] - 1s 2ms/step - loss: 0.5602 - accuracy: 0.7299\n",
      "Epoch 77/1000\n",
      "804/804 [==============================] - 1s 2ms/step - loss: 0.5594 - accuracy: 0.7282\n",
      "Epoch 78/1000\n",
      "804/804 [==============================] - 1s 2ms/step - loss: 0.5577 - accuracy: 0.7291\n",
      "Epoch 79/1000\n",
      "804/804 [==============================] - 1s 2ms/step - loss: 0.5592 - accuracy: 0.7296\n",
      "Epoch 80/1000\n",
      "804/804 [==============================] - 1s 2ms/step - loss: 0.5587 - accuracy: 0.7284: 0s - loss: 0.556\n",
      "\n",
      "Epoch 00080: saving model to checkpoints_opt\\weights_2.80.hdf5\n",
      "Epoch 81/1000\n",
      "804/804 [==============================] - 1s 2ms/step - loss: 0.5572 - accuracy: 0.7288\n",
      "Epoch 82/1000\n",
      "804/804 [==============================] - 1s 2ms/step - loss: 0.5569 - accuracy: 0.7305\n",
      "Epoch 83/1000\n",
      "804/804 [==============================] - 2s 2ms/step - loss: 0.5567 - accuracy: 0.7301\n",
      "Epoch 84/1000\n",
      "804/804 [==============================] - 1s 2ms/step - loss: 0.5571 - accuracy: 0.7291\n",
      "Epoch 85/1000\n",
      "804/804 [==============================] - 1s 2ms/step - loss: 0.5599 - accuracy: 0.7277\n",
      "\n",
      "Epoch 00085: saving model to checkpoints_opt\\weights_2.85.hdf5\n",
      "Epoch 86/1000\n",
      "804/804 [==============================] - 1s 2ms/step - loss: 0.5568 - accuracy: 0.7290\n",
      "Epoch 87/1000\n",
      "804/804 [==============================] - 2s 2ms/step - loss: 0.5564 - accuracy: 0.7302\n",
      "Epoch 88/1000\n",
      "804/804 [==============================] - 2s 2ms/step - loss: 0.5568 - accuracy: 0.7293\n",
      "Epoch 89/1000\n",
      "804/804 [==============================] - 1s 2ms/step - loss: 0.5629 - accuracy: 0.7274\n",
      "Epoch 90/1000\n",
      "804/804 [==============================] - 1s 2ms/step - loss: 0.5600 - accuracy: 0.7285\n",
      "\n",
      "Epoch 00090: saving model to checkpoints_opt\\weights_2.90.hdf5\n",
      "Epoch 91/1000\n",
      "804/804 [==============================] - 1s 2ms/step - loss: 0.5595 - accuracy: 0.7287\n",
      "Epoch 92/1000\n",
      "804/804 [==============================] - 1s 2ms/step - loss: 0.5578 - accuracy: 0.7303\n",
      "Epoch 93/1000\n",
      "804/804 [==============================] - 1s 2ms/step - loss: 0.5563 - accuracy: 0.7306\n",
      "Epoch 94/1000\n",
      "804/804 [==============================] - 1s 2ms/step - loss: 0.5571 - accuracy: 0.7298\n",
      "Epoch 95/1000\n",
      "804/804 [==============================] - 1s 2ms/step - loss: 0.5557 - accuracy: 0.7298\n",
      "\n",
      "Epoch 00095: saving model to checkpoints_opt\\weights_2.95.hdf5\n",
      "Epoch 96/1000\n",
      "804/804 [==============================] - 2s 2ms/step - loss: 0.5581 - accuracy: 0.7296: 0s - loss: 0\n",
      "Epoch 97/1000\n",
      "804/804 [==============================] - 2s 2ms/step - loss: 0.5576 - accuracy: 0.7290\n",
      "Epoch 98/1000\n",
      "804/804 [==============================] - 1s 2ms/step - loss: 0.5582 - accuracy: 0.7277\n",
      "Epoch 99/1000\n",
      "804/804 [==============================] - 1s 2ms/step - loss: 0.5573 - accuracy: 0.7300\n",
      "Epoch 100/1000\n",
      "804/804 [==============================] - 2s 2ms/step - loss: 0.5567 - accuracy: 0.7299\n",
      "\n",
      "Epoch 00100: saving model to checkpoints_opt\\weights_2.100.hdf5\n",
      "Epoch 101/1000\n",
      "804/804 [==============================] - 2s 2ms/step - loss: 0.5557 - accuracy: 0.7313\n",
      "Epoch 102/1000\n",
      "804/804 [==============================] - 2s 2ms/step - loss: 0.5565 - accuracy: 0.7303\n",
      "Epoch 103/1000\n",
      "804/804 [==============================] - ETA: 0s - loss: 0.5567 - accuracy: 0.72 - 2s 2ms/step - loss: 0.5564 - accuracy: 0.7287\n",
      "Epoch 104/1000\n",
      "804/804 [==============================] - 2s 2ms/step - loss: 0.5553 - accuracy: 0.7299\n",
      "Epoch 105/1000\n",
      "804/804 [==============================] - 2s 2ms/step - loss: 0.5568 - accuracy: 0.7283\n",
      "\n",
      "Epoch 00105: saving model to checkpoints_opt\\weights_2.105.hdf5\n",
      "Epoch 106/1000\n",
      "804/804 [==============================] - 2s 2ms/step - loss: 0.5569 - accuracy: 0.7302\n",
      "Epoch 107/1000\n",
      "804/804 [==============================] - 1s 2ms/step - loss: 0.5558 - accuracy: 0.7320\n",
      "Epoch 108/1000\n",
      "804/804 [==============================] - 1s 2ms/step - loss: 0.5557 - accuracy: 0.7309\n",
      "Epoch 109/1000\n",
      "804/804 [==============================] - 1s 2ms/step - loss: 0.5569 - accuracy: 0.7309\n",
      "Epoch 110/1000\n",
      "804/804 [==============================] - 1s 2ms/step - loss: 0.5554 - accuracy: 0.7310: 0s - los\n",
      "\n",
      "Epoch 00110: saving model to checkpoints_opt\\weights_2.110.hdf5\n",
      "Epoch 111/1000\n",
      "804/804 [==============================] - 1s 2ms/step - loss: 0.5573 - accuracy: 0.7295\n",
      "Epoch 112/1000\n",
      "804/804 [==============================] - 1s 2ms/step - loss: 0.5571 - accuracy: 0.7317\n",
      "Epoch 113/1000\n",
      "804/804 [==============================] - 2s 2ms/step - loss: 0.5565 - accuracy: 0.7315\n",
      "Epoch 114/1000\n",
      "804/804 [==============================] - 2s 2ms/step - loss: 0.5577 - accuracy: 0.7289\n",
      "Epoch 115/1000\n",
      "804/804 [==============================] - 1s 2ms/step - loss: 0.5566 - accuracy: 0.7303\n",
      "\n",
      "Epoch 00115: saving model to checkpoints_opt\\weights_2.115.hdf5\n",
      "Epoch 116/1000\n",
      "804/804 [==============================] - 1s 2ms/step - loss: 0.5556 - accuracy: 0.7304\n",
      "Epoch 117/1000\n",
      "804/804 [==============================] - 1s 2ms/step - loss: 0.5568 - accuracy: 0.7287\n",
      "Epoch 118/1000\n",
      "804/804 [==============================] - 2s 2ms/step - loss: 0.5549 - accuracy: 0.7308\n",
      "Epoch 119/1000\n",
      "804/804 [==============================] - 1s 2ms/step - loss: 0.5564 - accuracy: 0.7298\n",
      "Epoch 120/1000\n",
      "804/804 [==============================] - 1s 2ms/step - loss: 0.5565 - accuracy: 0.7303\n",
      "\n",
      "Epoch 00120: saving model to checkpoints_opt\\weights_2.120.hdf5\n",
      "Epoch 121/1000\n",
      "804/804 [==============================] - 1s 2ms/step - loss: 0.5555 - accuracy: 0.7304\n",
      "Epoch 122/1000\n",
      "804/804 [==============================] - 1s 2ms/step - loss: 0.5565 - accuracy: 0.7306\n",
      "Epoch 123/1000\n",
      "804/804 [==============================] - 2s 2ms/step - loss: 0.5555 - accuracy: 0.7315\n",
      "Epoch 124/1000\n",
      "804/804 [==============================] - 1s 2ms/step - loss: 0.5558 - accuracy: 0.7304\n",
      "Epoch 125/1000\n",
      "804/804 [==============================] - 1s 2ms/step - loss: 0.5560 - accuracy: 0.7303\n",
      "\n",
      "Epoch 00125: saving model to checkpoints_opt\\weights_2.125.hdf5\n",
      "Epoch 126/1000\n",
      "804/804 [==============================] - 1s 2ms/step - loss: 0.5571 - accuracy: 0.7288\n",
      "Epoch 127/1000\n",
      "804/804 [==============================] - 2s 2ms/step - loss: 0.5553 - accuracy: 0.7303\n",
      "Epoch 128/1000\n",
      "804/804 [==============================] - 1s 2ms/step - loss: 0.5568 - accuracy: 0.7306\n",
      "Epoch 129/1000\n",
      "804/804 [==============================] - 1s 2ms/step - loss: 0.5566 - accuracy: 0.7305\n",
      "Epoch 130/1000\n",
      "804/804 [==============================] - 1s 2ms/step - loss: 0.5559 - accuracy: 0.7312\n",
      "\n",
      "Epoch 00130: saving model to checkpoints_opt\\weights_2.130.hdf5\n",
      "Epoch 131/1000\n",
      "804/804 [==============================] - 1s 2ms/step - loss: 0.5548 - accuracy: 0.7315\n",
      "Epoch 132/1000\n",
      "804/804 [==============================] - 1s 2ms/step - loss: 0.5560 - accuracy: 0.7301\n",
      "Epoch 133/1000\n",
      "804/804 [==============================] - 1s 2ms/step - loss: 0.5567 - accuracy: 0.7291\n",
      "Epoch 134/1000\n",
      "804/804 [==============================] - 1s 2ms/step - loss: 0.5566 - accuracy: 0.7283\n",
      "Epoch 135/1000\n",
      "804/804 [==============================] - 1s 2ms/step - loss: 0.5562 - accuracy: 0.7297\n",
      "\n",
      "Epoch 00135: saving model to checkpoints_opt\\weights_2.135.hdf5\n",
      "Epoch 136/1000\n",
      "804/804 [==============================] - 2s 2ms/step - loss: 0.5570 - accuracy: 0.7279\n",
      "Epoch 137/1000\n",
      "804/804 [==============================] - 3s 3ms/step - loss: 0.5578 - accuracy: 0.7293\n",
      "Epoch 138/1000\n",
      "804/804 [==============================] - 2s 3ms/step - loss: 0.5562 - accuracy: 0.7299\n",
      "Epoch 139/1000\n",
      "804/804 [==============================] - 2s 2ms/step - loss: 0.5563 - accuracy: 0.7292\n",
      "Epoch 140/1000\n"
     ]
    },
    {
     "name": "stdout",
     "output_type": "stream",
     "text": [
      "804/804 [==============================] - 2s 2ms/step - loss: 0.5553 - accuracy: 0.7318\n",
      "\n",
      "Epoch 00140: saving model to checkpoints_opt\\weights_2.140.hdf5\n",
      "Epoch 141/1000\n",
      "804/804 [==============================] - 2s 2ms/step - loss: 0.5553 - accuracy: 0.7306\n",
      "Epoch 142/1000\n",
      "804/804 [==============================] - 2s 2ms/step - loss: 0.5549 - accuracy: 0.7317\n",
      "Epoch 143/1000\n",
      "804/804 [==============================] - 2s 2ms/step - loss: 0.5552 - accuracy: 0.7301\n",
      "Epoch 144/1000\n",
      "804/804 [==============================] - 1s 2ms/step - loss: 0.5562 - accuracy: 0.7289\n",
      "Epoch 145/1000\n",
      "804/804 [==============================] - 1s 2ms/step - loss: 0.5546 - accuracy: 0.7311\n",
      "\n",
      "Epoch 00145: saving model to checkpoints_opt\\weights_2.145.hdf5\n",
      "Epoch 146/1000\n",
      "804/804 [==============================] - 1s 2ms/step - loss: 0.5549 - accuracy: 0.7311\n",
      "Epoch 147/1000\n",
      "804/804 [==============================] - 1s 2ms/step - loss: 0.5576 - accuracy: 0.7291\n",
      "Epoch 148/1000\n",
      "804/804 [==============================] - 1s 2ms/step - loss: 0.5560 - accuracy: 0.7296\n",
      "Epoch 149/1000\n",
      "804/804 [==============================] - 1s 2ms/step - loss: 0.5555 - accuracy: 0.7320\n",
      "Epoch 150/1000\n",
      "804/804 [==============================] - 1s 2ms/step - loss: 0.5558 - accuracy: 0.7297\n",
      "\n",
      "Epoch 00150: saving model to checkpoints_opt\\weights_2.150.hdf5\n",
      "Epoch 151/1000\n",
      "804/804 [==============================] - 1s 2ms/step - loss: 0.5562 - accuracy: 0.7290\n",
      "Epoch 152/1000\n",
      "804/804 [==============================] - 1s 2ms/step - loss: 0.5554 - accuracy: 0.7307\n",
      "Epoch 153/1000\n",
      "804/804 [==============================] - 2s 2ms/step - loss: 0.5549 - accuracy: 0.7306: 0s - loss: 0.5\n",
      "Epoch 154/1000\n",
      "804/804 [==============================] - 1s 2ms/step - loss: 0.5553 - accuracy: 0.7315\n",
      "Epoch 155/1000\n",
      "804/804 [==============================] - 1s 2ms/step - loss: 0.5554 - accuracy: 0.7298\n",
      "\n",
      "Epoch 00155: saving model to checkpoints_opt\\weights_2.155.hdf5\n",
      "Epoch 156/1000\n",
      "804/804 [==============================] - 1s 2ms/step - loss: 0.5556 - accuracy: 0.7308\n",
      "Epoch 157/1000\n",
      "804/804 [==============================] - 1s 2ms/step - loss: 0.5569 - accuracy: 0.7296\n",
      "Epoch 158/1000\n",
      "804/804 [==============================] - 1s 2ms/step - loss: 0.5580 - accuracy: 0.7286\n",
      "Epoch 159/1000\n",
      "804/804 [==============================] - 1s 2ms/step - loss: 0.5580 - accuracy: 0.7297\n",
      "Epoch 160/1000\n",
      "804/804 [==============================] - 1s 2ms/step - loss: 0.5575 - accuracy: 0.7307\n",
      "\n",
      "Epoch 00160: saving model to checkpoints_opt\\weights_2.160.hdf5\n",
      "Epoch 161/1000\n",
      "804/804 [==============================] - 1s 2ms/step - loss: 0.5573 - accuracy: 0.7309\n",
      "Epoch 162/1000\n",
      "804/804 [==============================] - 1s 2ms/step - loss: 0.5569 - accuracy: 0.7298\n",
      "Epoch 163/1000\n",
      "804/804 [==============================] - 1s 2ms/step - loss: 0.5561 - accuracy: 0.7299\n",
      "Epoch 164/1000\n",
      "804/804 [==============================] - 1s 2ms/step - loss: 0.5565 - accuracy: 0.7302\n",
      "Epoch 165/1000\n",
      "804/804 [==============================] - 1s 2ms/step - loss: 0.5564 - accuracy: 0.7289\n",
      "\n",
      "Epoch 00165: saving model to checkpoints_opt\\weights_2.165.hdf5\n",
      "Epoch 166/1000\n",
      "804/804 [==============================] - 1s 2ms/step - loss: 0.5558 - accuracy: 0.7307\n",
      "Epoch 167/1000\n",
      "804/804 [==============================] - 1s 2ms/step - loss: 0.5561 - accuracy: 0.7301\n",
      "Epoch 168/1000\n",
      "804/804 [==============================] - 2s 2ms/step - loss: 0.5570 - accuracy: 0.7287\n",
      "Epoch 169/1000\n",
      "804/804 [==============================] - 1s 2ms/step - loss: 0.5558 - accuracy: 0.7308: 0s - loss: 0.5590 - ac\n",
      "Epoch 170/1000\n",
      "804/804 [==============================] - 2s 2ms/step - loss: 0.5554 - accuracy: 0.7304\n",
      "\n",
      "Epoch 00170: saving model to checkpoints_opt\\weights_2.170.hdf5\n",
      "Epoch 171/1000\n",
      "804/804 [==============================] - 1s 2ms/step - loss: 0.5555 - accuracy: 0.7304\n",
      "Epoch 172/1000\n",
      "804/804 [==============================] - 1s 2ms/step - loss: 0.5563 - accuracy: 0.7288\n",
      "Epoch 173/1000\n",
      "804/804 [==============================] - 1s 2ms/step - loss: 0.5572 - accuracy: 0.7286: 0s - los\n",
      "Epoch 174/1000\n",
      "804/804 [==============================] - 1s 2ms/step - loss: 0.5553 - accuracy: 0.7303\n",
      "Epoch 175/1000\n",
      "804/804 [==============================] - 1s 2ms/step - loss: 0.5557 - accuracy: 0.7301\n",
      "\n",
      "Epoch 00175: saving model to checkpoints_opt\\weights_2.175.hdf5\n",
      "Epoch 176/1000\n",
      "804/804 [==============================] - 1s 2ms/step - loss: 0.5575 - accuracy: 0.7308\n",
      "Epoch 177/1000\n",
      "804/804 [==============================] - 1s 2ms/step - loss: 0.5585 - accuracy: 0.7294\n",
      "Epoch 178/1000\n",
      "804/804 [==============================] - 1s 2ms/step - loss: 0.5576 - accuracy: 0.7287\n",
      "Epoch 179/1000\n",
      "804/804 [==============================] - 2s 2ms/step - loss: 0.5565 - accuracy: 0.7293\n",
      "Epoch 180/1000\n",
      "804/804 [==============================] - 2s 2ms/step - loss: 0.5555 - accuracy: 0.7297\n",
      "\n",
      "Epoch 00180: saving model to checkpoints_opt\\weights_2.180.hdf5\n",
      "Epoch 181/1000\n",
      "804/804 [==============================] - 2s 2ms/step - loss: 0.5568 - accuracy: 0.7273\n",
      "Epoch 182/1000\n",
      "804/804 [==============================] - 2s 2ms/step - loss: 0.5567 - accuracy: 0.7283\n",
      "Epoch 183/1000\n",
      "804/804 [==============================] - 1s 2ms/step - loss: 0.5564 - accuracy: 0.7301: 0s - loss: 0.5578 - accura\n",
      "Epoch 184/1000\n",
      "804/804 [==============================] - 2s 2ms/step - loss: 0.5565 - accuracy: 0.7296\n",
      "Epoch 185/1000\n",
      "804/804 [==============================] - 1s 2ms/step - loss: 0.5555 - accuracy: 0.7304\n",
      "\n",
      "Epoch 00185: saving model to checkpoints_opt\\weights_2.185.hdf5\n",
      "Epoch 186/1000\n",
      "804/804 [==============================] - 1s 2ms/step - loss: 0.5556 - accuracy: 0.7312\n",
      "Epoch 187/1000\n",
      "804/804 [==============================] - 1s 2ms/step - loss: 0.5571 - accuracy: 0.7279\n",
      "Epoch 188/1000\n",
      "804/804 [==============================] - 1s 2ms/step - loss: 0.5570 - accuracy: 0.7293\n",
      "Epoch 189/1000\n",
      "804/804 [==============================] - 1s 2ms/step - loss: 0.5557 - accuracy: 0.7320\n",
      "Epoch 190/1000\n",
      "804/804 [==============================] - 1s 2ms/step - loss: 0.5561 - accuracy: 0.7317\n",
      "\n",
      "Epoch 00190: saving model to checkpoints_opt\\weights_2.190.hdf5\n",
      "Epoch 191/1000\n",
      "804/804 [==============================] - 1s 2ms/step - loss: 0.5555 - accuracy: 0.7326\n",
      "Epoch 192/1000\n",
      "804/804 [==============================] - 1s 2ms/step - loss: 0.5556 - accuracy: 0.7306\n",
      "Epoch 193/1000\n",
      "804/804 [==============================] - 1s 2ms/step - loss: 0.5555 - accuracy: 0.7318\n",
      "Epoch 194/1000\n",
      "804/804 [==============================] - 2s 2ms/step - loss: 0.5563 - accuracy: 0.7300\n",
      "Epoch 195/1000\n",
      "804/804 [==============================] - 1s 2ms/step - loss: 0.5564 - accuracy: 0.7297\n",
      "\n",
      "Epoch 00195: saving model to checkpoints_opt\\weights_2.195.hdf5\n",
      "Epoch 196/1000\n",
      "804/804 [==============================] - 1s 2ms/step - loss: 0.5561 - accuracy: 0.7317: 0s - loss: 0.5546 - ac\n",
      "Epoch 197/1000\n",
      "804/804 [==============================] - 1s 2ms/step - loss: 0.5561 - accuracy: 0.7310\n",
      "Epoch 198/1000\n",
      "804/804 [==============================] - 1s 2ms/step - loss: 0.5572 - accuracy: 0.7306\n",
      "Epoch 199/1000\n",
      "804/804 [==============================] - 1s 2ms/step - loss: 0.5554 - accuracy: 0.7300: 0s - loss: 0.5549 - accura\n",
      "Epoch 200/1000\n",
      "804/804 [==============================] - 1s 2ms/step - loss: 0.5566 - accuracy: 0.7314\n",
      "\n",
      "Epoch 00200: saving model to checkpoints_opt\\weights_2.200.hdf5\n",
      "Epoch 201/1000\n",
      "804/804 [==============================] - 1s 2ms/step - loss: 0.5567 - accuracy: 0.7304\n",
      "Epoch 202/1000\n",
      "804/804 [==============================] - 1s 2ms/step - loss: 0.5572 - accuracy: 0.7294\n",
      "Epoch 203/1000\n",
      "804/804 [==============================] - 1s 2ms/step - loss: 0.5569 - accuracy: 0.7294\n",
      "Epoch 204/1000\n",
      "804/804 [==============================] - 1s 2ms/step - loss: 0.5565 - accuracy: 0.7294\n",
      "Epoch 205/1000\n",
      "804/804 [==============================] - 1s 2ms/step - loss: 0.5575 - accuracy: 0.7286\n",
      "\n",
      "Epoch 00205: saving model to checkpoints_opt\\weights_2.205.hdf5\n",
      "Epoch 206/1000\n",
      "804/804 [==============================] - 1s 2ms/step - loss: 0.5561 - accuracy: 0.7289\n",
      "Epoch 207/1000\n",
      "804/804 [==============================] - 1s 2ms/step - loss: 0.5557 - accuracy: 0.7304\n",
      "Epoch 208/1000\n"
     ]
    },
    {
     "name": "stdout",
     "output_type": "stream",
     "text": [
      "804/804 [==============================] - 1s 2ms/step - loss: 0.5565 - accuracy: 0.7302\n",
      "Epoch 209/1000\n",
      "804/804 [==============================] - 1s 2ms/step - loss: 0.5556 - accuracy: 0.7307\n",
      "Epoch 210/1000\n",
      "804/804 [==============================] - 1s 2ms/step - loss: 0.5578 - accuracy: 0.7293\n",
      "\n",
      "Epoch 00210: saving model to checkpoints_opt\\weights_2.210.hdf5\n",
      "Epoch 211/1000\n",
      "804/804 [==============================] - 1s 2ms/step - loss: 0.5558 - accuracy: 0.7308\n",
      "Epoch 212/1000\n",
      "804/804 [==============================] - 1s 2ms/step - loss: 0.5555 - accuracy: 0.7315\n",
      "Epoch 213/1000\n",
      "804/804 [==============================] - 1s 2ms/step - loss: 0.5550 - accuracy: 0.7300\n",
      "Epoch 214/1000\n",
      "804/804 [==============================] - 1s 2ms/step - loss: 0.5567 - accuracy: 0.7280\n",
      "Epoch 215/1000\n",
      "804/804 [==============================] - 2s 2ms/step - loss: 0.5558 - accuracy: 0.7286\n",
      "\n",
      "Epoch 00215: saving model to checkpoints_opt\\weights_2.215.hdf5\n",
      "Epoch 216/1000\n",
      "804/804 [==============================] - 1s 2ms/step - loss: 0.5564 - accuracy: 0.7304\n",
      "Epoch 217/1000\n",
      "804/804 [==============================] - 1s 2ms/step - loss: 0.5558 - accuracy: 0.7305\n",
      "Epoch 218/1000\n",
      "804/804 [==============================] - 2s 2ms/step - loss: 0.5550 - accuracy: 0.7309\n",
      "Epoch 219/1000\n",
      "804/804 [==============================] - 1s 2ms/step - loss: 0.5548 - accuracy: 0.7311\n",
      "Epoch 220/1000\n",
      "804/804 [==============================] - 1s 2ms/step - loss: 0.5557 - accuracy: 0.7301\n",
      "\n",
      "Epoch 00220: saving model to checkpoints_opt\\weights_2.220.hdf5\n",
      "Epoch 221/1000\n",
      "804/804 [==============================] - 1s 2ms/step - loss: 0.5566 - accuracy: 0.7291\n",
      "Epoch 222/1000\n",
      "804/804 [==============================] - 2s 2ms/step - loss: 0.5567 - accuracy: 0.7287: 0s - loss: 0.5569 - accuracy: 0.72\n",
      "Epoch 223/1000\n",
      "804/804 [==============================] - 2s 2ms/step - loss: 0.5564 - accuracy: 0.7305: 0s - loss: 0.5558 - accura\n",
      "Epoch 224/1000\n",
      "804/804 [==============================] - 2s 2ms/step - loss: 0.5563 - accuracy: 0.7298\n",
      "Epoch 225/1000\n",
      "804/804 [==============================] - 2s 2ms/step - loss: 0.5559 - accuracy: 0.7307\n",
      "\n",
      "Epoch 00225: saving model to checkpoints_opt\\weights_2.225.hdf5\n",
      "Epoch 226/1000\n",
      "804/804 [==============================] - 1s 2ms/step - loss: 0.5576 - accuracy: 0.7301\n",
      "Epoch 227/1000\n",
      "804/804 [==============================] - 1s 2ms/step - loss: 0.5565 - accuracy: 0.7288\n",
      "Epoch 228/1000\n",
      "804/804 [==============================] - 1s 2ms/step - loss: 0.5569 - accuracy: 0.7292\n",
      "Epoch 229/1000\n",
      "804/804 [==============================] - 1s 2ms/step - loss: 0.5566 - accuracy: 0.7305\n",
      "Epoch 230/1000\n",
      "804/804 [==============================] - 1s 2ms/step - loss: 0.5572 - accuracy: 0.7294\n",
      "\n",
      "Epoch 00230: saving model to checkpoints_opt\\weights_2.230.hdf5\n",
      "Epoch 231/1000\n",
      "804/804 [==============================] - 1s 2ms/step - loss: 0.5566 - accuracy: 0.7313\n",
      "Epoch 232/1000\n",
      "804/804 [==============================] - 1s 2ms/step - loss: 0.5560 - accuracy: 0.7308\n",
      "Epoch 233/1000\n",
      "804/804 [==============================] - 1s 2ms/step - loss: 0.5573 - accuracy: 0.7313\n",
      "Epoch 234/1000\n",
      "804/804 [==============================] - 1s 2ms/step - loss: 0.5580 - accuracy: 0.7307\n",
      "Epoch 235/1000\n",
      "804/804 [==============================] - 2s 2ms/step - loss: 0.5556 - accuracy: 0.7318\n",
      "\n",
      "Epoch 00235: saving model to checkpoints_opt\\weights_2.235.hdf5\n",
      "Epoch 236/1000\n",
      "804/804 [==============================] - 1s 2ms/step - loss: 0.5555 - accuracy: 0.7299\n",
      "Epoch 237/1000\n",
      "804/804 [==============================] - 1s 2ms/step - loss: 0.5561 - accuracy: 0.7303\n",
      "Epoch 238/1000\n",
      "804/804 [==============================] - 1s 2ms/step - loss: 0.5569 - accuracy: 0.7310\n",
      "Epoch 239/1000\n",
      "804/804 [==============================] - 1s 2ms/step - loss: 0.5566 - accuracy: 0.7296\n",
      "Epoch 240/1000\n",
      "804/804 [==============================] - 1s 2ms/step - loss: 0.5564 - accuracy: 0.7309: 0s - l\n",
      "\n",
      "Epoch 00240: saving model to checkpoints_opt\\weights_2.240.hdf5\n",
      "Epoch 241/1000\n",
      "804/804 [==============================] - 1s 2ms/step - loss: 0.5564 - accuracy: 0.7301\n",
      "Epoch 242/1000\n",
      "804/804 [==============================] - 1s 2ms/step - loss: 0.5565 - accuracy: 0.7314\n",
      "Epoch 243/1000\n",
      "804/804 [==============================] - 2s 2ms/step - loss: 0.5558 - accuracy: 0.7288\n",
      "Epoch 244/1000\n",
      "804/804 [==============================] - 1s 2ms/step - loss: 0.5556 - accuracy: 0.7293\n",
      "Epoch 245/1000\n",
      "804/804 [==============================] - 1s 2ms/step - loss: 0.5557 - accuracy: 0.7310\n",
      "\n",
      "Epoch 00245: saving model to checkpoints_opt\\weights_2.245.hdf5\n",
      "Epoch 246/1000\n",
      "804/804 [==============================] - 1s 2ms/step - loss: 0.5564 - accuracy: 0.7274: 0s - loss: 0.5567 - accuracy: \n",
      "Epoch 247/1000\n",
      "804/804 [==============================] - 1s 2ms/step - loss: 0.5567 - accuracy: 0.7297\n",
      "Epoch 248/1000\n",
      "804/804 [==============================] - 1s 2ms/step - loss: 0.5565 - accuracy: 0.7286\n",
      "Epoch 249/1000\n",
      "804/804 [==============================] - 1s 2ms/step - loss: 0.5561 - accuracy: 0.7299\n",
      "Epoch 250/1000\n",
      "804/804 [==============================] - 1s 2ms/step - loss: 0.5556 - accuracy: 0.7312\n",
      "\n",
      "Epoch 00250: saving model to checkpoints_opt\\weights_2.250.hdf5\n",
      "Epoch 251/1000\n",
      "804/804 [==============================] - 1s 2ms/step - loss: 0.5555 - accuracy: 0.7317\n",
      "Epoch 252/1000\n",
      "804/804 [==============================] - 1s 2ms/step - loss: 0.5551 - accuracy: 0.7320\n",
      "Epoch 253/1000\n",
      "804/804 [==============================] - 1s 2ms/step - loss: 0.5566 - accuracy: 0.7316\n",
      "Epoch 254/1000\n",
      "804/804 [==============================] - 1s 2ms/step - loss: 0.5556 - accuracy: 0.7308\n",
      "Epoch 255/1000\n",
      "804/804 [==============================] - 1s 2ms/step - loss: 0.5551 - accuracy: 0.7304\n",
      "\n",
      "Epoch 00255: saving model to checkpoints_opt\\weights_2.255.hdf5\n",
      "Epoch 256/1000\n",
      "804/804 [==============================] - 1s 2ms/step - loss: 0.5547 - accuracy: 0.7322\n",
      "Epoch 257/1000\n",
      "804/804 [==============================] - 1s 2ms/step - loss: 0.5556 - accuracy: 0.7310: 0s - loss: 0.5578 - accu\n",
      "Epoch 258/1000\n",
      "804/804 [==============================] - 2s 2ms/step - loss: 0.5557 - accuracy: 0.7301: \n",
      "Epoch 259/1000\n",
      "804/804 [==============================] - 2s 2ms/step - loss: 0.5554 - accuracy: 0.7317\n",
      "Epoch 260/1000\n",
      "318/804 [==========>...................] - ETA: 1s - loss: 0.5558 - accuracy: 0.7270"
     ]
    },
    {
     "ename": "KeyboardInterrupt",
     "evalue": "",
     "output_type": "error",
     "traceback": [
      "\u001b[1;31m---------------------------------------------------------------------------\u001b[0m",
      "\u001b[1;31mKeyboardInterrupt\u001b[0m                         Traceback (most recent call last)",
      "\u001b[1;32m<ipython-input-111-d73f935ef08b>\u001b[0m in \u001b[0;36m<module>\u001b[1;34m\u001b[0m\n\u001b[0;32m      1\u001b[0m \u001b[1;31m# Train the model\u001b[0m\u001b[1;33m\u001b[0m\u001b[1;33m\u001b[0m\u001b[1;33m\u001b[0m\u001b[0m\n\u001b[1;32m----> 2\u001b[1;33m \u001b[0mfit_model\u001b[0m \u001b[1;33m=\u001b[0m \u001b[0mnn\u001b[0m\u001b[1;33m.\u001b[0m\u001b[0mfit\u001b[0m\u001b[1;33m(\u001b[0m\u001b[0mX_train_scaled\u001b[0m\u001b[1;33m,\u001b[0m \u001b[0my_train\u001b[0m\u001b[1;33m,\u001b[0m \u001b[0mepochs\u001b[0m\u001b[1;33m=\u001b[0m\u001b[1;36m1000\u001b[0m\u001b[1;33m,\u001b[0m \u001b[0mcallbacks\u001b[0m\u001b[1;33m=\u001b[0m\u001b[1;33m[\u001b[0m\u001b[0mcp_callback_opt\u001b[0m\u001b[1;33m]\u001b[0m\u001b[1;33m)\u001b[0m\u001b[1;33m\u001b[0m\u001b[1;33m\u001b[0m\u001b[0m\n\u001b[0m",
      "\u001b[1;32m~\\anaconda3\\envs\\mlenv\\lib\\site-packages\\tensorflow\\python\\keras\\engine\\training.py\u001b[0m in \u001b[0;36mfit\u001b[1;34m(self, x, y, batch_size, epochs, verbose, callbacks, validation_split, validation_data, shuffle, class_weight, sample_weight, initial_epoch, steps_per_epoch, validation_steps, validation_batch_size, validation_freq, max_queue_size, workers, use_multiprocessing)\u001b[0m\n\u001b[0;32m   1181\u001b[0m                 _r=1):\n\u001b[0;32m   1182\u001b[0m               \u001b[0mcallbacks\u001b[0m\u001b[1;33m.\u001b[0m\u001b[0mon_train_batch_begin\u001b[0m\u001b[1;33m(\u001b[0m\u001b[0mstep\u001b[0m\u001b[1;33m)\u001b[0m\u001b[1;33m\u001b[0m\u001b[1;33m\u001b[0m\u001b[0m\n\u001b[1;32m-> 1183\u001b[1;33m               \u001b[0mtmp_logs\u001b[0m \u001b[1;33m=\u001b[0m \u001b[0mself\u001b[0m\u001b[1;33m.\u001b[0m\u001b[0mtrain_function\u001b[0m\u001b[1;33m(\u001b[0m\u001b[0miterator\u001b[0m\u001b[1;33m)\u001b[0m\u001b[1;33m\u001b[0m\u001b[1;33m\u001b[0m\u001b[0m\n\u001b[0m\u001b[0;32m   1184\u001b[0m               \u001b[1;32mif\u001b[0m \u001b[0mdata_handler\u001b[0m\u001b[1;33m.\u001b[0m\u001b[0mshould_sync\u001b[0m\u001b[1;33m:\u001b[0m\u001b[1;33m\u001b[0m\u001b[1;33m\u001b[0m\u001b[0m\n\u001b[0;32m   1185\u001b[0m                 \u001b[0mcontext\u001b[0m\u001b[1;33m.\u001b[0m\u001b[0masync_wait\u001b[0m\u001b[1;33m(\u001b[0m\u001b[1;33m)\u001b[0m\u001b[1;33m\u001b[0m\u001b[1;33m\u001b[0m\u001b[0m\n",
      "\u001b[1;32m~\\anaconda3\\envs\\mlenv\\lib\\site-packages\\tensorflow\\python\\eager\\def_function.py\u001b[0m in \u001b[0;36m__call__\u001b[1;34m(self, *args, **kwds)\u001b[0m\n\u001b[0;32m    887\u001b[0m \u001b[1;33m\u001b[0m\u001b[0m\n\u001b[0;32m    888\u001b[0m       \u001b[1;32mwith\u001b[0m \u001b[0mOptionalXlaContext\u001b[0m\u001b[1;33m(\u001b[0m\u001b[0mself\u001b[0m\u001b[1;33m.\u001b[0m\u001b[0m_jit_compile\u001b[0m\u001b[1;33m)\u001b[0m\u001b[1;33m:\u001b[0m\u001b[1;33m\u001b[0m\u001b[1;33m\u001b[0m\u001b[0m\n\u001b[1;32m--> 889\u001b[1;33m         \u001b[0mresult\u001b[0m \u001b[1;33m=\u001b[0m \u001b[0mself\u001b[0m\u001b[1;33m.\u001b[0m\u001b[0m_call\u001b[0m\u001b[1;33m(\u001b[0m\u001b[1;33m*\u001b[0m\u001b[0margs\u001b[0m\u001b[1;33m,\u001b[0m \u001b[1;33m**\u001b[0m\u001b[0mkwds\u001b[0m\u001b[1;33m)\u001b[0m\u001b[1;33m\u001b[0m\u001b[1;33m\u001b[0m\u001b[0m\n\u001b[0m\u001b[0;32m    890\u001b[0m \u001b[1;33m\u001b[0m\u001b[0m\n\u001b[0;32m    891\u001b[0m       \u001b[0mnew_tracing_count\u001b[0m \u001b[1;33m=\u001b[0m \u001b[0mself\u001b[0m\u001b[1;33m.\u001b[0m\u001b[0mexperimental_get_tracing_count\u001b[0m\u001b[1;33m(\u001b[0m\u001b[1;33m)\u001b[0m\u001b[1;33m\u001b[0m\u001b[1;33m\u001b[0m\u001b[0m\n",
      "\u001b[1;32m~\\anaconda3\\envs\\mlenv\\lib\\site-packages\\tensorflow\\python\\eager\\def_function.py\u001b[0m in \u001b[0;36m_call\u001b[1;34m(self, *args, **kwds)\u001b[0m\n\u001b[0;32m    915\u001b[0m       \u001b[1;31m# In this case we have created variables on the first call, so we run the\u001b[0m\u001b[1;33m\u001b[0m\u001b[1;33m\u001b[0m\u001b[1;33m\u001b[0m\u001b[0m\n\u001b[0;32m    916\u001b[0m       \u001b[1;31m# defunned version which is guaranteed to never create variables.\u001b[0m\u001b[1;33m\u001b[0m\u001b[1;33m\u001b[0m\u001b[1;33m\u001b[0m\u001b[0m\n\u001b[1;32m--> 917\u001b[1;33m       \u001b[1;32mreturn\u001b[0m \u001b[0mself\u001b[0m\u001b[1;33m.\u001b[0m\u001b[0m_stateless_fn\u001b[0m\u001b[1;33m(\u001b[0m\u001b[1;33m*\u001b[0m\u001b[0margs\u001b[0m\u001b[1;33m,\u001b[0m \u001b[1;33m**\u001b[0m\u001b[0mkwds\u001b[0m\u001b[1;33m)\u001b[0m  \u001b[1;31m# pylint: disable=not-callable\u001b[0m\u001b[1;33m\u001b[0m\u001b[1;33m\u001b[0m\u001b[0m\n\u001b[0m\u001b[0;32m    918\u001b[0m     \u001b[1;32melif\u001b[0m \u001b[0mself\u001b[0m\u001b[1;33m.\u001b[0m\u001b[0m_stateful_fn\u001b[0m \u001b[1;32mis\u001b[0m \u001b[1;32mnot\u001b[0m \u001b[1;32mNone\u001b[0m\u001b[1;33m:\u001b[0m\u001b[1;33m\u001b[0m\u001b[1;33m\u001b[0m\u001b[0m\n\u001b[0;32m    919\u001b[0m       \u001b[1;31m# Release the lock early so that multiple threads can perform the call\u001b[0m\u001b[1;33m\u001b[0m\u001b[1;33m\u001b[0m\u001b[1;33m\u001b[0m\u001b[0m\n",
      "\u001b[1;32m~\\anaconda3\\envs\\mlenv\\lib\\site-packages\\tensorflow\\python\\eager\\function.py\u001b[0m in \u001b[0;36m__call__\u001b[1;34m(self, *args, **kwargs)\u001b[0m\n\u001b[0;32m   3022\u001b[0m        filtered_flat_args) = self._maybe_define_function(args, kwargs)\n\u001b[0;32m   3023\u001b[0m     return graph_function._call_flat(\n\u001b[1;32m-> 3024\u001b[1;33m         filtered_flat_args, captured_inputs=graph_function.captured_inputs)  # pylint: disable=protected-access\n\u001b[0m\u001b[0;32m   3025\u001b[0m \u001b[1;33m\u001b[0m\u001b[0m\n\u001b[0;32m   3026\u001b[0m   \u001b[1;33m@\u001b[0m\u001b[0mproperty\u001b[0m\u001b[1;33m\u001b[0m\u001b[1;33m\u001b[0m\u001b[0m\n",
      "\u001b[1;32m~\\anaconda3\\envs\\mlenv\\lib\\site-packages\\tensorflow\\python\\eager\\function.py\u001b[0m in \u001b[0;36m_call_flat\u001b[1;34m(self, args, captured_inputs, cancellation_manager)\u001b[0m\n\u001b[0;32m   1959\u001b[0m       \u001b[1;31m# No tape is watching; skip to running the function.\u001b[0m\u001b[1;33m\u001b[0m\u001b[1;33m\u001b[0m\u001b[1;33m\u001b[0m\u001b[0m\n\u001b[0;32m   1960\u001b[0m       return self._build_call_outputs(self._inference_function.call(\n\u001b[1;32m-> 1961\u001b[1;33m           ctx, args, cancellation_manager=cancellation_manager))\n\u001b[0m\u001b[0;32m   1962\u001b[0m     forward_backward = self._select_forward_and_backward_functions(\n\u001b[0;32m   1963\u001b[0m         \u001b[0margs\u001b[0m\u001b[1;33m,\u001b[0m\u001b[1;33m\u001b[0m\u001b[1;33m\u001b[0m\u001b[0m\n",
      "\u001b[1;32m~\\anaconda3\\envs\\mlenv\\lib\\site-packages\\tensorflow\\python\\eager\\function.py\u001b[0m in \u001b[0;36mcall\u001b[1;34m(self, ctx, args, cancellation_manager)\u001b[0m\n\u001b[0;32m    594\u001b[0m               \u001b[0minputs\u001b[0m\u001b[1;33m=\u001b[0m\u001b[0margs\u001b[0m\u001b[1;33m,\u001b[0m\u001b[1;33m\u001b[0m\u001b[1;33m\u001b[0m\u001b[0m\n\u001b[0;32m    595\u001b[0m               \u001b[0mattrs\u001b[0m\u001b[1;33m=\u001b[0m\u001b[0mattrs\u001b[0m\u001b[1;33m,\u001b[0m\u001b[1;33m\u001b[0m\u001b[1;33m\u001b[0m\u001b[0m\n\u001b[1;32m--> 596\u001b[1;33m               ctx=ctx)\n\u001b[0m\u001b[0;32m    597\u001b[0m         \u001b[1;32melse\u001b[0m\u001b[1;33m:\u001b[0m\u001b[1;33m\u001b[0m\u001b[1;33m\u001b[0m\u001b[0m\n\u001b[0;32m    598\u001b[0m           outputs = execute.execute_with_cancellation(\n",
      "\u001b[1;32m~\\anaconda3\\envs\\mlenv\\lib\\site-packages\\tensorflow\\python\\eager\\execute.py\u001b[0m in \u001b[0;36mquick_execute\u001b[1;34m(op_name, num_outputs, inputs, attrs, ctx, name)\u001b[0m\n\u001b[0;32m     58\u001b[0m     \u001b[0mctx\u001b[0m\u001b[1;33m.\u001b[0m\u001b[0mensure_initialized\u001b[0m\u001b[1;33m(\u001b[0m\u001b[1;33m)\u001b[0m\u001b[1;33m\u001b[0m\u001b[1;33m\u001b[0m\u001b[0m\n\u001b[0;32m     59\u001b[0m     tensors = pywrap_tfe.TFE_Py_Execute(ctx._handle, device_name, op_name,\n\u001b[1;32m---> 60\u001b[1;33m                                         inputs, attrs, num_outputs)\n\u001b[0m\u001b[0;32m     61\u001b[0m   \u001b[1;32mexcept\u001b[0m \u001b[0mcore\u001b[0m\u001b[1;33m.\u001b[0m\u001b[0m_NotOkStatusException\u001b[0m \u001b[1;32mas\u001b[0m \u001b[0me\u001b[0m\u001b[1;33m:\u001b[0m\u001b[1;33m\u001b[0m\u001b[1;33m\u001b[0m\u001b[0m\n\u001b[0;32m     62\u001b[0m     \u001b[1;32mif\u001b[0m \u001b[0mname\u001b[0m \u001b[1;32mis\u001b[0m \u001b[1;32mnot\u001b[0m \u001b[1;32mNone\u001b[0m\u001b[1;33m:\u001b[0m\u001b[1;33m\u001b[0m\u001b[1;33m\u001b[0m\u001b[0m\n",
      "\u001b[1;31mKeyboardInterrupt\u001b[0m: "
     ]
    }
   ],
   "source": [
    "# Train the model\n",
    "fit_model = nn.fit(X_train_scaled, y_train, epochs=1000, callbacks=[cp_callback_opt])"
   ]
  },
  {
   "cell_type": "code",
   "execution_count": null,
   "id": "fb937789",
   "metadata": {},
   "outputs": [],
   "source": []
  },
  {
   "cell_type": "code",
   "execution_count": null,
   "id": "da67615d",
   "metadata": {},
   "outputs": [],
   "source": []
  },
  {
   "cell_type": "code",
   "execution_count": null,
   "id": "cb1e2991",
   "metadata": {},
   "outputs": [],
   "source": []
  }
 ],
 "metadata": {
  "kernelspec": {
   "display_name": "mlenv",
   "language": "python",
   "name": "mlenv"
  },
  "language_info": {
   "codemirror_mode": {
    "name": "ipython",
    "version": 3
   },
   "file_extension": ".py",
   "mimetype": "text/x-python",
   "name": "python",
   "nbconvert_exporter": "python",
   "pygments_lexer": "ipython3",
   "version": "3.7.10"
  }
 },
 "nbformat": 4,
 "nbformat_minor": 5
}
